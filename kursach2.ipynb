{
  "nbformat": 4,
  "nbformat_minor": 0,
  "metadata": {
    "colab": {
      "name": "kursach2.ipynb",
      "provenance": [],
      "collapsed_sections": []
    },
    "kernelspec": {
      "display_name": "Python 3",
      "language": "python",
      "name": "python3"
    },
    "language_info": {
      "codemirror_mode": {
        "name": "ipython",
        "version": 3
      },
      "file_extension": ".py",
      "mimetype": "text/x-python",
      "name": "python",
      "nbconvert_exporter": "python",
      "pygments_lexer": "ipython3",
      "version": "3.5.6"
    }
  },
  "cells": [
    {
      "cell_type": "code",
      "metadata": {
        "colab_type": "code",
        "id": "5_EiC0FuHneg",
        "outputId": "50d9b540-644a-4160-9761-7e84f22d5839",
        "colab": {
          "base_uri": "https://localhost:8080/",
          "height": 427
        }
      },
      "source": [
        "!pip3 install epitran\n",
        "from google.colab import drive\n",
        "drive.mount('/content/drive')\n",
        "!pip install pymorphy2"
      ],
      "execution_count": 151,
      "outputs": [
        {
          "output_type": "stream",
          "text": [
            "Requirement already satisfied: epitran in /usr/local/lib/python3.6/dist-packages (1.8)\n",
            "Requirement already satisfied: regex in /usr/local/lib/python3.6/dist-packages (from epitran) (2019.12.20)\n",
            "Requirement already satisfied: marisa-trie in /usr/local/lib/python3.6/dist-packages (from epitran) (0.7.5)\n",
            "Requirement already satisfied: unicodecsv in /usr/local/lib/python3.6/dist-packages (from epitran) (0.14.1)\n",
            "Requirement already satisfied: panphon>=0.16 in /usr/local/lib/python3.6/dist-packages (from epitran) (0.17)\n",
            "Requirement already satisfied: setuptools in /usr/local/lib/python3.6/dist-packages (from epitran) (46.1.3)\n",
            "Requirement already satisfied: numpy in /usr/local/lib/python3.6/dist-packages (from panphon>=0.16->epitran) (1.18.4)\n",
            "Requirement already satisfied: editdistance in /usr/local/lib/python3.6/dist-packages (from panphon>=0.16->epitran) (0.5.3)\n",
            "Requirement already satisfied: munkres in /usr/local/lib/python3.6/dist-packages (from panphon>=0.16->epitran) (1.1.2)\n",
            "Requirement already satisfied: PyYAML in /usr/local/lib/python3.6/dist-packages (from panphon>=0.16->epitran) (3.13)\n",
            "Drive already mounted at /content/drive; to attempt to forcibly remount, call drive.mount(\"/content/drive\", force_remount=True).\n",
            "Collecting pymorphy2\n",
            "\u001b[?25l  Downloading https://files.pythonhosted.org/packages/a3/33/fff9675c68b5f6c63ec8c6e6ff57827dda28a1fa5b2c2d727dffff92dd47/pymorphy2-0.8-py2.py3-none-any.whl (46kB)\n",
            "\u001b[K     |████████████████████████████████| 51kB 1.9MB/s \n",
            "\u001b[?25hRequirement already satisfied: docopt>=0.6 in /usr/local/lib/python3.6/dist-packages (from pymorphy2) (0.6.2)\n",
            "Collecting pymorphy2-dicts<3.0,>=2.4\n",
            "\u001b[?25l  Downloading https://files.pythonhosted.org/packages/02/51/2465fd4f72328ab50877b54777764d928da8cb15b74e2680fc1bd8cb3173/pymorphy2_dicts-2.4.393442.3710985-py2.py3-none-any.whl (7.1MB)\n",
            "\u001b[K     |████████████████████████████████| 7.1MB 5.7MB/s \n",
            "\u001b[?25hCollecting dawg-python>=0.7\n",
            "  Downloading https://files.pythonhosted.org/packages/6a/84/ff1ce2071d4c650ec85745766c0047ccc3b5036f1d03559fd46bb38b5eeb/DAWG_Python-0.7.2-py2.py3-none-any.whl\n",
            "Installing collected packages: pymorphy2-dicts, dawg-python, pymorphy2\n",
            "Successfully installed dawg-python-0.7.2 pymorphy2-0.8 pymorphy2-dicts-2.4.393442.3710985\n"
          ],
          "name": "stdout"
        }
      ]
    },
    {
      "cell_type": "code",
      "metadata": {
        "colab_type": "code",
        "id": "TwHCIPykIgw7",
        "colab": {
          "base_uri": "https://localhost:8080/",
          "height": 72
        },
        "outputId": "26e4d10b-d7ef-40a9-ada7-c6cc067a369a"
      },
      "source": [
        "import epitran\n",
        "import pandas as pd\n",
        "import numpy as np\n",
        "import re\n",
        "import networkx as nx\n",
        "import sklearn\n",
        "import pickle\n",
        "import pymorphy2\n",
        "morph = pymorphy2.MorphAnalyzer()\n",
        "load_model = pickle.load(open('model3_vow.sav', 'rb'))\n",
        "\n",
        "from sklearn.linear_model import RidgeClassifier\n",
        "from sklearn.model_selection import GridSearchCV\n",
        "from sklearn import datasets"
      ],
      "execution_count": 234,
      "outputs": [
        {
          "output_type": "stream",
          "text": [
            "INFO:pymorphy2.opencorpora_dict.wrapper:Loading dictionaries from /usr/local/lib/python3.6/dist-packages/pymorphy2_dicts/data\n",
            "INFO:pymorphy2.opencorpora_dict.wrapper:format: 2.4, revision: 393442, updated: 2015-01-17T16:03:56.586168\n"
          ],
          "name": "stderr"
        }
      ]
    },
    {
      "cell_type": "code",
      "metadata": {
        "id": "oV9gBrdcCXdY",
        "colab_type": "code",
        "outputId": "adede86c-73fe-4132-ea0d-7ab73c16f92b",
        "colab": {
          "base_uri": "https://localhost:8080/",
          "height": 72
        }
      },
      "source": [
        "verses = pd.read_csv('/content/drive/My Drive/verses.csv', sep = '\\t')\n",
        "    # verses = f.read().split('\\n')"
      ],
      "execution_count": 6,
      "outputs": [
        {
          "output_type": "stream",
          "text": [
            "/usr/local/lib/python3.6/dist-packages/IPython/core/interactiveshell.py:2718: DtypeWarning: Columns (26,27,28,31,32,42,48) have mixed types.Specify dtype option on import or set low_memory=False.\n",
            "  interactivity=interactivity, compiler=compiler, result=result)\n"
          ],
          "name": "stderr"
        }
      ]
    },
    {
      "cell_type": "code",
      "metadata": {
        "colab_type": "code",
        "id": "7cOvnqxkJYCs",
        "outputId": "5ca887e5-a2e5-44f3-a1b3-7463b5c58207",
        "colab": {
          "base_uri": "https://localhost:8080/",
          "height": 34
        }
      },
      "source": [
        "epi = epitran.Epitran('rus-Cyrl')\n",
        "epi"
      ],
      "execution_count": 107,
      "outputs": [
        {
          "output_type": "execute_result",
          "data": {
            "text/plain": [
              "<epitran._epitran.Epitran at 0x7f444a009518>"
            ]
          },
          "metadata": {
            "tags": []
          },
          "execution_count": 107
        }
      ]
    },
    {
      "cell_type": "code",
      "metadata": {
        "colab_type": "code",
        "id": "pCdkMpHDMCad",
        "colab": {
          "base_uri": "https://localhost:8080/",
          "height": 34
        },
        "outputId": "7fd56a26-c0d0-4834-8bbd-645fdfbdb5c5"
      },
      "source": [
        "epi.transliterate(u'мамулечка')"
      ],
      "execution_count": 108,
      "outputs": [
        {
          "output_type": "execute_result",
          "data": {
            "text/plain": [
              "'mamulʲet͡ɕʲka'"
            ]
          },
          "metadata": {
            "tags": []
          },
          "execution_count": 108
        }
      ]
    },
    {
      "cell_type": "code",
      "metadata": {
        "colab_type": "code",
        "id": "4L_TVlQFGuH7",
        "colab": {}
      },
      "source": [
        "with open ('words.csv', 'r', encoding = 'utf-8') as f:\n",
        "    file = f.read().replace('?', '')\n",
        "with open ('rules.csv', 'r', encoding = 'utf-8') as r:\n",
        "    rules = r.read()"
      ],
      "execution_count": 0,
      "outputs": []
    },
    {
      "cell_type": "code",
      "metadata": {
        "colab_type": "code",
        "id": "KyGnSKPgHX4z",
        "colab": {}
      },
      "source": [
        "rules = rules.split('\\n')\n",
        "list_words = file.split(';\\n')\n",
        "\n",
        "# print(rules)\n",
        "# print(list_words)"
      ],
      "execution_count": 0,
      "outputs": []
    },
    {
      "cell_type": "code",
      "metadata": {
        "colab_type": "code",
        "id": "Zjz8NRDGHt4W",
        "colab": {}
      },
      "source": [
        "# ПОСТРОЕНИЕ ТРАНСКРИПЦИЙ В ЭПИТРАНЕ\n",
        "\n",
        "# true_list_words = []\n",
        "# list_words_ipa = []\n",
        "\n",
        "# for two_words in list_words:\n",
        "#     two_words = two_words.split(';')\n",
        "#     true_list_words.append(two_words)\n",
        "#     for word in two_words: \n",
        "#         word_ipa = epi.transliterate(word)\n",
        "#         list_words_ipa.append(word_ipa)\n",
        "# list_words_ipa"
      ],
      "execution_count": 0,
      "outputs": []
    },
    {
      "cell_type": "code",
      "metadata": {
        "colab_type": "code",
        "id": "V1FYdVhfJxwm",
        "outputId": "2d9f88a8-a46f-4d54-9514-7495d4bdc5e2",
        "colab": {
          "base_uri": "https://localhost:8080/",
          "height": 107
        }
      },
      "source": [
        "!pip install phonetic-algorithmIPA\n",
        "from phonetic_algorithmIPA import ipa_distances\n",
        "ipa = ipa_distances.PhoneticAlgorithmIPA()"
      ],
      "execution_count": 24,
      "outputs": [
        {
          "output_type": "stream",
          "text": [
            "Collecting phonetic-algorithmIPA\n",
            "  Downloading https://files.pythonhosted.org/packages/b7/38/f4e2be32d5e6eaa7d6708c6fced6de132f4f2f1e6d5764bc687f2e4a5cec/phonetic_algorithmIPA-0.2.4-py3-none-any.whl\n",
            "Installing collected packages: phonetic-algorithmIPA\n",
            "Successfully installed phonetic-algorithmIPA-0.2.4\n"
          ],
          "name": "stdout"
        }
      ]
    },
    {
      "cell_type": "code",
      "metadata": {
        "colab_type": "code",
        "id": "tcG0SfolNdCU",
        "colab": {}
      },
      "source": [
        "# ПОСТРОЕНИЕ ТРАНСКРИПЦИЯ В phonetic-algorithmIPAБ\n",
        "# ПОИСК РАССТОЯНИЯ ЛЕВЕНШТЕЙНА\n",
        "\n",
        "# a = ipa.phonetic_transformer('words.csv', 'rules.csv', typ='Non LS')\n",
        "# a"
      ],
      "execution_count": 0,
      "outputs": []
    },
    {
      "cell_type": "code",
      "metadata": {
        "colab_type": "code",
        "id": "BsZwM6r9SNF1",
        "colab": {}
      },
      "source": [
        "list_rules = []\n",
        "for i in rules:\n",
        "    list_rules.append(i.split(';'))"
      ],
      "execution_count": 0,
      "outputs": []
    },
    {
      "cell_type": "code",
      "metadata": {
        "colab_type": "code",
        "id": "krQ3N-nSSldy",
        "colab": {}
      },
      "source": [
        "word = 'меня'\n",
        "\n",
        "def zamena(word, index_letter, rule):\n",
        "    # print(index_letter)\n",
        "    letter = word[index_letter]\n",
        "    if rule[0] == word[index_letter]:\n",
        "        if rule[2] == '':\n",
        "            word = word.replace(word[index_letter], rule[1])\n",
        "            # index_letter += len(rule[1]) - len(rule[0])\n",
        "            return word\n",
        "\n",
        "        if rule[2][1] == word[index_letter+1] or rule[2][0] == word[index_letter-1]:\n",
        "            if rule[2][1] == word[index_letter+1]:\n",
        "                word = word.replace(word[index_letter], rule[1], 1)\n",
        "                # index_letter += len(rule[1]) - len(rule[0])\n",
        "                return word\n",
        "\n",
        "        # print(rule[2][0] == word[index_letter-1])\n",
        "        if rule[2][0] == word[index_letter-1]:\n",
        "            print(rule[2][0])\n",
        "            word = word.replace(word[index_letter], rule[1], 1)\n",
        "            # index_letter += len(rule[1]) - len(rule[0])\n",
        "            return word\n",
        "\n",
        "        else:\n",
        "            # print('e')\n",
        "            # index_letter += len(rule[1]) - len(rule[0])\n",
        "            return word\n",
        "\n",
        "    else:\n",
        "    # index_letter += len(rule[1]) - len(rule[0])\n",
        "        return word\n"
      ],
      "execution_count": 0,
      "outputs": []
    },
    {
      "cell_type": "code",
      "metadata": {
        "colab_type": "code",
        "id": "WewQCx0koam2",
        "outputId": "3518d87b-0706-4715-8fc7-78c674fcfc30",
        "colab": {
          "base_uri": "https://localhost:8080/",
          "height": 34
        }
      },
      "source": [
        "# РАЗБИЕНИЕ ПРАВИЛ ПО ОЧЕРЕДНОСТИ ПРИМЕНЕНИЯ К СЛОВУ\n",
        "\n",
        "letter = 'ш'\n",
        "def rule_for_letter(letter, rules):\n",
        "    firstPrior_rules_for_letter = []\n",
        "    SecondPrior_rules_for_letter = []\n",
        "    for rule in rules:\n",
        "        if rule[0] == letter and rule[2] != '':\n",
        "            firstPrior_rules_for_letter.append(rule)\n",
        "            # print('prior', firstPrior_rules_for_letter)\n",
        "        elif rule[0] == letter and rule[2] == '':\n",
        "            SecondPrior_rules_for_letter.append(rule)\n",
        "            # print('second', SecondPrior_rules_for_letter)\n",
        "    return firstPrior_rules_for_letter + SecondPrior_rules_for_letter\n",
        "\n",
        "ru = rule_for_letter(letter, list_rules)\n",
        "ru"
      ],
      "execution_count": 27,
      "outputs": [
        {
          "output_type": "execute_result",
          "data": {
            "text/plain": [
              "[['ш', 'ʂ', '']]"
            ]
          },
          "metadata": {
            "tags": []
          },
          "execution_count": 27
        }
      ]
    },
    {
      "cell_type": "code",
      "metadata": {
        "colab_type": "code",
        "id": "HRwca_mQfe2u",
        "outputId": "6a9f1a2f-bb97-45da-ce99-4352dfb83566",
        "colab": {
          "base_uri": "https://localhost:8080/",
          "height": 34
        }
      },
      "source": [
        "# ФУНКЦИЯ ДЕЛАЕТ ТРАНСКРИПЦИЮ\n",
        "\n",
        "def make_trans(word):\n",
        "    word_base = word\n",
        "    index_letter = 0\n",
        "    for letter in word:\n",
        "        prioritete_rule = rule_for_letter(letter, list_rules)\n",
        "        # print(prioritete_rule, word)\n",
        "        for i in prioritete_rule:\n",
        "            # print(word, index_letter, i)\n",
        "            word = zamena(word, index_letter, i)\n",
        "        index_letter += 1 + len(word) - len(word_base)\n",
        "        word_base = word\n",
        "        # print(word)\n",
        "    return word\n",
        "\n",
        "make_trans('нѐосты̀лый#')"
      ],
      "execution_count": 28,
      "outputs": [
        {
          "output_type": "execute_result",
          "data": {
            "text/plain": [
              "'nʲèostɨ̀lɨj#'"
            ]
          },
          "metadata": {
            "tags": []
          },
          "execution_count": 28
        }
      ]
    },
    {
      "cell_type": "code",
      "metadata": {
        "colab_type": "code",
        "id": "tUNaNhRFyy9B",
        "outputId": "07e0f71c-2661-4f6d-f22a-e61254e2b9b7",
        "colab": {
          "base_uri": "https://localhost:8080/",
          "height": 34
        }
      },
      "source": [
        "short_list = []\n",
        "for two_w in list_words:\n",
        "    j = two_w.split(';')\n",
        "    short_list.append(j)\n",
        "short_list[-2]"
      ],
      "execution_count": 29,
      "outputs": [
        {
          "output_type": "execute_result",
          "data": {
            "text/plain": [
              "['домой', 'зимой']"
            ]
          },
          "metadata": {
            "tags": []
          },
          "execution_count": 29
        }
      ]
    },
    {
      "cell_type": "code",
      "metadata": {
        "colab_type": "code",
        "id": "FReepK0ujaKg",
        "colab": {}
      },
      "source": [
        "big_list_trans = []\n",
        "for pair in short_list[:-1]:\n",
        "    for word in pair:\n",
        "        two_w = make_trans(word +'#')\n",
        "        big_list_trans.append(two_w)\n"
      ],
      "execution_count": 0,
      "outputs": []
    },
    {
      "cell_type": "code",
      "metadata": {
        "colab_type": "code",
        "id": "HE9Zb5ut1TaE",
        "colab": {}
      },
      "source": [
        "#  with open('transcript.csv', 'w', encoding = 'utf-8') as f:\n",
        "#   for pair in big_list_trans:\n",
        "#     for w in pair:\n",
        "#       f.write(w)\n",
        "#     f.write('\\n')\n",
        "# with open('transcript.csv', 'r', encoding = 'utf-8') as f:\n",
        "#   fi = f.read()\n",
        "#   print(fi)"
      ],
      "execution_count": 0,
      "outputs": []
    },
    {
      "cell_type": "code",
      "metadata": {
        "colab_type": "code",
        "id": "V2-0A02LzSHH",
        "outputId": "26e06172-9a59-4222-a142-dab3c611344b",
        "colab": {
          "base_uri": "https://localhost:8080/",
          "height": 34
        }
      },
      "source": [
        "# СОЕДИНЯЕТ ДИАКРИТИКИ И ДРУГИЕ СПЕЦИАЛЬНЫЕ ЗНАКИ СО СЛОВАМИ, К КОТОРЫМ ОНИ ОТНОСЯТСЯ\n",
        "\n",
        "diacritic = { \"ʲ\" : [ 'pos', { 'round': '+' } ], '̀' : [ 'pos', { 'round': '+' } ],  \")\": [ 'betw', { 'round': '+' } ]}\n",
        "# '̀' : [ 'pos', { 'round': '+' } ],\n",
        "def find_diacr(word, letter, symbol):\n",
        "    word = list(word)\n",
        "    if symbol[0] == letter:\n",
        "        if diacritic[symbol][0] == 'pos':\n",
        "            pre = word[:word.index(letter) - 1]\n",
        "            diacr = [word[word.index(letter) - 1] + word[word.index(letter)]]\n",
        "            post = word[word.index(letter) + 1:]\n",
        "            new_word = pre + diacr + post\n",
        "            # print(new_word)\n",
        "            return new_word, letter\n",
        "\n",
        "# diacritic[symbol][0]\n",
        "        elif diacritic[symbol][0] == 'pre':\n",
        "            pre = word[:word.index(letter)]\n",
        "            diacr = [word[word.index(letter)] + word[word.index(letter)+ 1 ]]\n",
        "            post = word[word.index(letter) + 2:]\n",
        "            new_word = pre + diacr + post\n",
        "            letter = word[word.index(letter) + 2]\n",
        "            # print(letter)\n",
        "            return new_word, letter \n",
        "      \n",
        "        elif diacritic[symbol][0] == 'betw':\n",
        "            pre = word[:word.index(letter) - 1]\n",
        "            diacr = [word[word.index(letter) - 1 ] + word[word.index(letter)] + word[word.index(letter)+ 1]]\n",
        "            post = word[word.index(letter) + 2:]\n",
        "            new_word = pre + diacr + post\n",
        "            letter = word[word.index(letter) + 2]\n",
        "            # print(new_word)\n",
        "            return new_word, letter \n",
        "\n",
        "    else:\n",
        "        return word, letter\n",
        "    \n",
        "\n",
        "print(find_diacr (['m', ')', 'e', 'n', 'a'], ')', ')'))"
      ],
      "execution_count": 230,
      "outputs": [
        {
          "output_type": "stream",
          "text": [
            "(['m)e', 'n', 'a'], 'n')\n"
          ],
          "name": "stdout"
        }
      ]
    },
    {
      "cell_type": "code",
      "metadata": {
        "colab_type": "code",
        "id": "arZA7xlh9Z2T",
        "colab": {}
      },
      "source": [
        "# РАЗДЕЛЯЕТ ВСЕ СЛОВА В ЛИСТЕ НА СЕГМЕНТЫ\n",
        "\n",
        "def make_segments_list(big_list_trans):\n",
        "    segments = []\n",
        "    for word in big_list_trans:\n",
        "        try:\n",
        "            for letter in word:\n",
        "                for symbol in diacritic.keys():\n",
        "                    word, letter = find_diacr(word, letter, symbol)\n",
        "        except ValueError:\n",
        "            pass\n",
        "        segments.append(word)\n",
        "    return segments\n",
        "# print(segments)"
      ],
      "execution_count": 0,
      "outputs": []
    },
    {
      "cell_type": "code",
      "metadata": {
        "colab_type": "code",
        "id": "cbypjHMDcju2",
        "outputId": "6aca1572-81d9-463e-94d6-5e9000fdbbe8",
        "colab": {
          "base_uri": "https://localhost:8080/",
          "height": 54
        }
      },
      "source": [
        "with open('puschkin.txt', 'r', encoding = 'utf-8') as f:\n",
        "    file = f.read().lower()\n",
        "    file = re.sub(r\"[,!?.;:\\-\\'\\\"]\", '', file)\n",
        "stix = file.split('\\n')\n",
        "print(stix)"
      ],
      "execution_count": 35,
      "outputs": [
        {
          "output_type": "stream",
          "text": [
            "['взыграли подзeмные воды', 'встаeт за волною волна', 'печальная чeрная барка', 'сквозь сумрак багровый видна', 'злой дух парусами играет', 'стоѝт у руля сатана', 'в той барке погѝбшие души', 'вкусѝвшие грeшных утeх', 'вчера лишь их создало нeбо', 'сегодня ужалил их грeх', 'и плачут и чeрная барка', 'навeки увозит их всeх']\n"
          ],
          "name": "stdout"
        }
      ]
    },
    {
      "cell_type": "code",
      "metadata": {
        "colab_type": "code",
        "id": "dKsLwABraJYn",
        "colab": {}
      },
      "source": [
        "# ДОСТАЕТ СЛОВА В ЗОНЕ РИФМОВКИ\n",
        "\n",
        "def find_last_words_l(stich):\n",
        "\n",
        "    list_word_to_transc = []\n",
        "    for i in stich:\n",
        "        # print(i)\n",
        "        if i != '':\n",
        "            last_word = i.rstrip(' ').split(' ')[-1]\n",
        "            if len(last_word) >= 4:\n",
        "                word_to_transc = last_word\n",
        "                list_word_to_transc.append(word_to_transc)\n",
        "            else:\n",
        "                word_to_transc = i.split(' ')[-2:]\n",
        "                word_to_transc = ' '.join(word_to_transc)\n",
        "                list_word_to_transc.append(word_to_transc)\n",
        "        else:\n",
        "            file.remove('')\n",
        "    return list_word_to_transc\n",
        "\n",
        "list_word_to_transc = find_last_words_l(stix)"
      ],
      "execution_count": 0,
      "outputs": []
    },
    {
      "cell_type": "code",
      "metadata": {
        "colab_type": "code",
        "id": "8IH9bHpKajn1",
        "colab": {}
      },
      "source": [
        "# ДЕЛАЕТ ТРАНСКРИПЦИЮ ДЛЯ СПИСКА СЛОВ\n",
        "\n",
        "def make_trans_for_list(list_word_to_transc):\n",
        "    list_transc_push = []\n",
        "    for i in list_word_to_transc:\n",
        "        if ' ' in i:\n",
        "            two_words_in_one = i.replace(' ' , '')\n",
        "            list_transc_push.append(make_trans(two_words_in_one + '#'))\n",
        "        else:\n",
        "            list_transc_push.append(make_trans(i+'#'))\n",
        "    return list_transc_push\n"
      ],
      "execution_count": 0,
      "outputs": []
    },
    {
      "cell_type": "code",
      "metadata": {
        "colab_type": "code",
        "id": "5xl8KYvYj3hG",
        "colab": {}
      },
      "source": [
        "segments = make_segments_list(make_trans_for_list(list_word_to_transc))"
      ],
      "execution_count": 0,
      "outputs": []
    },
    {
      "cell_type": "code",
      "metadata": {
        "colab_type": "code",
        "id": "PtpDUabBhiXx",
        "colab": {}
      },
      "source": [
        "# ВЫДЕЛЯЕТ ПОСЛЕДНИЕ ЧЕТЫРЕ ЭЛЕМЕНТА В СЛОВЕ\n",
        "\n",
        "def segments_four_last_func(segments):\n",
        "    segments_four_last = ''\n",
        "    count = 0\n",
        "    for i in segments:\n",
        "        str_word = ''\n",
        "        str_word = ''.join(i[-5:-1:])\n",
        "        if count % 2 == 0:\n",
        "            segments_four_last += ''.join(str_word + ';')\n",
        "            count += 1\n",
        "        else:\n",
        "            segments_four_last += ''.join(str_word + '\\n')\n",
        "            count += 1\n",
        "    print(segments_four_last)\n",
        "    return segments_four_last"
      ],
      "execution_count": 0,
      "outputs": []
    },
    {
      "cell_type": "code",
      "metadata": {
        "colab_type": "code",
        "id": "aBIm8_bPbaDk",
        "colab": {}
      },
      "source": [
        "# СЧИТАЕТ РАССТОЯНИЕ ПО ЛЕВЕНШТЕЙНУ МЕЖДУ ДВУМЯ СЛОВАМИ\n",
        "\n",
        "def find_distance(str_word_first, str_word_second):\n",
        "    with open('trans_four.csv', 'w', encoding = 'utf-8') as f:\n",
        "        f.write(str_word_first + ';' + str_word_second)\n",
        "    c = ipa.phonetic_distance('trans_four.csv', normalize = False)\n",
        "    return c\n"
      ],
      "execution_count": 0,
      "outputs": []
    },
    {
      "cell_type": "code",
      "metadata": {
        "colab_type": "code",
        "id": "vNYWArq8zPqZ",
        "colab": {}
      },
      "source": [
        "# ФУНКЦИЯ ИЩЕТ ВОСЕМЬ БЛИЖАЙШИХ СТРОК К ЗАДАНОЙ СТРОКЕ\n",
        "\n",
        "\n",
        "def find_eight_string(list_words, startword):\n",
        "    if list_words.index(startword) == 0 or list_words.index(startword) == 1 or list_words.index(startword) == 2 or list_words.index(startword) == 3:\n",
        "        befor = list_words[: list_words.index(startword)]\n",
        "    else:\n",
        "        befor = list_words[list_words.index(startword) -4  : list_words.index(startword)]\n",
        "    after = list_words[list_words.index(startword) + 1 : list_words.index(startword) + 5]\n",
        "    return befor, after\n",
        "\n",
        "# ФУНКЦИЯ ВЫДАЕТ ДИСТАНЦИЮ МЕЖДУ СТАРТОВЫМ УЗЛОМ И УЗЛАМИ, СВЯЗАННЫМИ С НИМ  \n",
        "\n",
        "\n",
        "def make_corteg_distance_for_nodes(startword, befor, after):\n",
        "    list_corteg_distance_for_nodes = []\n",
        "    startword_seg = make_segments_list(make_trans_for_list([startword]))[0]\n",
        "    str_word_first = ''.join(startword_seg[-4:-1:])\n",
        "    if befor != []:\n",
        "        seg_befor = make_segments_list(make_trans_for_list(befor))\n",
        "        for i in seg_befor:\n",
        "            str_word_second = ''.join(i[-4:-1:])\n",
        "            cort = (startword, befor[seg_befor.index(i)], find_distance(str_word_first, str_word_second))\n",
        "            list_corteg_distance_for_nodes.append(cort)\n",
        "\n",
        "    if after != []:\n",
        "        seg_after = make_segments_list(make_trans_for_list(after))\n",
        "        for i in seg_after:\n",
        "            str_word_second = ''.join(i[-4:-1:])\n",
        "            cort = (startword, after[seg_after.index(i)], find_distance(str_word_first, str_word_second))\n",
        "            list_corteg_distance_for_nodes.append(cort)\n",
        "    return list_corteg_distance_for_nodes\n",
        "\n",
        "# лист восьми (спереди и сзади) ближайших соседей слова старт\n",
        "# построение их транскрипции \n",
        "# нахождение растоянияния для каждой\n",
        "# \n",
        "# записываю новый узел в граф если узел = минимальное растояние до этого слова\n",
        "# подумать как оформить одиночные строки"
      ],
      "execution_count": 0,
      "outputs": []
    },
    {
      "cell_type": "code",
      "metadata": {
        "colab_type": "code",
        "id": "YfSOSoOH2opZ",
        "colab": {}
      },
      "source": [
        "# УСТАРЕВШЕЕ\n",
        "\n",
        "# def find_min(node):\n",
        "#     weight =None\n",
        "#     min_dist = 3\n",
        "#     cort_min = ()\n",
        "#     for j in G.edges(node):\n",
        "#         weight = G.get_edge_data(j[0], j[1])['weight']\n",
        "#         if min_dist == 3:\n",
        "#             min_dist = weight\n",
        "#             cort_min = (min_dist, j)\n",
        "\n",
        "#         elif min_dist > weight:\n",
        "#             New_G.add_edge(j[0], j[1])\n",
        "#             min_dist = weight\n",
        "#             cort_min = (min_dist, j)\n",
        "#     return cort_min "
      ],
      "execution_count": 0,
      "outputs": []
    },
    {
      "cell_type": "code",
      "metadata": {
        "colab_type": "code",
        "id": "BgAw9ymFZikH",
        "outputId": "462be011-be87-4536-8c23-e74ee79efa54",
        "colab": {
          "base_uri": "https://localhost:8080/",
          "height": 54
        }
      },
      "source": [
        "# УСТАРЕВШЕЕ\n",
        "\n",
        "\n",
        "# weight =None\n",
        "# min_dist = 3  \n",
        "# list_cort_edges_for_G = []\n",
        "\n",
        "# New_G = nx.Graph()\n",
        "# for i in list_word_to_transc:\n",
        "#     New_G.add_node(i)\n",
        "    \n",
        "# for i in list_word_to_transc:\n",
        "#     G=nx.Graph()\n",
        "#     if type(i) == list:\n",
        "#         i = ' '.join(i)\n",
        "#     befor_startword, after_startword = find_eight_string(list_word_to_transc, i)\n",
        "#     list_corteg_distance_for_node_i = make_corteg_distance_for_nodes(i, befor_startword, after_startword)\n",
        "#     G.add_weighted_edges_from(list_corteg_distance_for_node_i)\n",
        "# #     print(G.edges())\n",
        "#     cort_min = find_min(i)\n",
        "# #     print(cort_min, '\\n', cort_min[1][0], cort_min[1][1])\n",
        "#     list_cort_edges_for_G.append((cort_min[1][0], cort_min[1][1]))\n",
        "# print(list_cort_edges_for_G)\n",
        "# New_G.add_edges_from(list_cort_edges_for_G)\n"
      ],
      "execution_count": 43,
      "outputs": [
        {
          "output_type": "stream",
          "text": [
            "[('воды', 'волна'), ('волна', 'видна'), ('барка', 'волна'), ('видна', 'волна'), ('играет', 'утeх'), ('сатана', 'волна'), ('души', 'сатана'), ('утeх', 'всeх'), ('нeбо', 'души'), ('грeх', 'утeх'), ('барка', 'волна'), ('всeх', 'утeх')]\n"
          ],
          "name": "stdout"
        }
      ]
    },
    {
      "cell_type": "code",
      "metadata": {
        "colab_type": "code",
        "id": "PC6ZclM3BGfq",
        "colab": {}
      },
      "source": [
        "# pos = nx.spring_layout(New_G)\n",
        "# nx.draw(New_G, pos, with_labels=True)"
      ],
      "execution_count": 0,
      "outputs": []
    },
    {
      "cell_type": "code",
      "metadata": {
        "id": "q4NRSxsG60kz",
        "colab_type": "code",
        "colab": {}
      },
      "source": [
        "# ДАЛЬШЕ Я НАЧИНАЮ ПОДГОТОВКУ ДАННЫХ К ОБУЧЕНИЮ СВОЕЙ МОДЕЛЬКИ"
      ],
      "execution_count": 0,
      "outputs": []
    },
    {
      "cell_type": "code",
      "metadata": {
        "colab_type": "code",
        "id": "xcbb9KCp-aCe",
        "colab": {}
      },
      "source": [
        "with open ('priznakiV.txt', 'r') as f:\n",
        "    priznaki = f.readlines()"
      ],
      "execution_count": 0,
      "outputs": []
    },
    {
      "cell_type": "code",
      "metadata": {
        "colab_type": "code",
        "id": "ssMtMD2Eq6_H",
        "outputId": "fef6ce61-2e7e-4e3a-8072-9a02817d3e01",
        "colab": {
          "base_uri": "https://localhost:8080/",
          "height": 34
        }
      },
      "source": [
        "# ПРИПИСЫВАЕТ ПРИЗНАКИ ЗВУКАМ, ВЫДАЕТ ЛИСТ С ЛИСТАМИ\n",
        "\n",
        "list_priznaki = []\n",
        "for i in priznaki:\n",
        "    list_priznaki.append(i.split(';'))\n",
        "\n",
        "def create_matrix_priz(list_priznaki, word):\n",
        "    list_priz_for_word = []\n",
        "    for letter in word[-4:-1:]:\n",
        "        for i in list_priznaki:\n",
        "            if letter == i[0]:\n",
        "                list_priz_for_word.append(i[2:18])\n",
        "\n",
        "    return list_priz_for_word\n",
        "\n",
        "print(len(create_matrix_priz(list_priznaki, ['mʲ', 'e', 'nʲ', 'a', '#'])[0]))"
      ],
      "execution_count": 47,
      "outputs": [
        {
          "output_type": "stream",
          "text": [
            "16\n"
          ],
          "name": "stdout"
        }
      ]
    },
    {
      "cell_type": "code",
      "metadata": {
        "colab_type": "code",
        "id": "Feb95VGLjxFK",
        "outputId": "09326d00-35ef-41a7-f047-26de96709855",
        "colab": {
          "base_uri": "https://localhost:8080/",
          "height": 34
        }
      },
      "source": [
        "# ДЕЛИТ СЛОВО НА СЕГМЕНТЫ\n",
        "\n",
        "def make_segments_for_word(word):\n",
        "    for letter in word:\n",
        "        for symbol in diacritic.keys():\n",
        "            word, letter = find_diacr(word, letter, symbol)\n",
        "        # print(word)\n",
        "    return word\n",
        "make_segments_for_word('dnʲa#')"
      ],
      "execution_count": 49,
      "outputs": [
        {
          "output_type": "execute_result",
          "data": {
            "text/plain": [
              "['d', 'nʲ', 'a', '#']"
            ]
          },
          "metadata": {
            "tags": []
          },
          "execution_count": 49
        }
      ]
    },
    {
      "cell_type": "code",
      "metadata": {
        "colab_type": "code",
        "id": "SvFVCz56io1X",
        "outputId": "9a76d473-a783-4b8f-ff91-7169980f3deb",
        "colab": {
          "base_uri": "https://localhost:8080/",
          "height": 34
        }
      },
      "source": [
        "# ФУНКЦИЯ ВОЗВРАЩАЕТ ВЕКТОР В КОТОРОМ ЕДИНИЦАМИ УКАЗАНЫ ОБЩИЕ ЭЛЕМЕНТЫ, А НУЛЯМИ РАЗЛИЧНЫЕ\n",
        "\n",
        "def matr_egal(matr1, matr2):\n",
        "    list_egalite = []\n",
        "    for i in range(len(matr1)):\n",
        "        for j in range(len(matr1[i])):\n",
        "            if matr1[i][j] == matr2[i][j]:\n",
        "                list_egalite.append(1)\n",
        "            else:\n",
        "                list_egalite.append(0)\n",
        "    return list_egalite\n",
        "\n",
        "matr1 = [['-', '-', '-', '?', '+', '?', '-', '+', '?', '-', '-', '-', '-', '-', '+'], ['+', '+', '-', '?', '?', '-', '+', '+', '-', '+', '?', '?', '?', '?', '?']]\n",
        "\n",
        "matr2 =  [['-', '-', '+', '+', '+', '?', '-', '-', '?', '-', '-', '-', '-', '-', '+'], ['+', '+', '-', '?', '?', '-', '+', '+', '-', '+', '?', '?', '?', '?', '?']]\n",
        "\n",
        "len(matr_egal(matr1, matr2))\n"
      ],
      "execution_count": 236,
      "outputs": [
        {
          "output_type": "execute_result",
          "data": {
            "text/plain": [
              "30"
            ]
          },
          "metadata": {
            "tags": []
          },
          "execution_count": 236
        }
      ]
    },
    {
      "cell_type": "code",
      "metadata": {
        "id": "mrUTLRWn60lC",
        "colab_type": "code",
        "colab": {}
      },
      "source": [
        "dataf = pd.read_csv('data_vectots.csv')"
      ],
      "execution_count": 0,
      "outputs": []
    },
    {
      "cell_type": "code",
      "metadata": {
        "colab_type": "code",
        "id": "Cf268nAIoCPe",
        "outputId": "15c165e9-6ed8-4f39-b7d3-5bd648f22083",
        "colab": {
          "base_uri": "https://localhost:8080/",
          "height": 156
        }
      },
      "source": [
        "print(dataf.head())\n",
        "dataf1 = np.copy(dataf)"
      ],
      "execution_count": 0,
      "outputs": [
        {
          "output_type": "stream",
          "text": [
            "   Unnamed: 0  0  1  2  3  4  5  6  7  8 ...  36  37  38  39  40  41  42  43  \\\n",
            "0          40  1  1  1  1  0  1  1  1  1 ...   1   1   1   1   1   1   1   1   \n",
            "1          43  1  0  1  1  1  1  1  1  1 ...   1   1   1   1   1   1   1   1   \n",
            "2          45  1  1  1  1  1  1  0  1  0 ...   1   1   1   1   1   1   1   1   \n",
            "3          48  1  1  1  1  1  1  1  1  1 ...   1   1   1   1   1   1   1   1   \n",
            "4          60  1  1  1  1  1  1  0  1  0 ...   1   1   1   1   1   1   1   1   \n",
            "\n",
            "   44  45  \n",
            "0   1   1  \n",
            "1   0   1  \n",
            "2   1   1  \n",
            "3   1   1  \n",
            "4   1   1  \n",
            "\n",
            "[5 rows x 47 columns]\n"
          ],
          "name": "stdout"
        }
      ]
    },
    {
      "cell_type": "code",
      "metadata": {
        "colab_type": "code",
        "id": "Hab5fC-v7D_6",
        "colab": {}
      },
      "source": [
        ""
      ],
      "execution_count": 0,
      "outputs": []
    },
    {
      "cell_type": "code",
      "metadata": {
        "colab_type": "code",
        "id": "9mRiuO0awEZp",
        "colab": {}
      },
      "source": [
        "np.random.shuffle(dataf1)"
      ],
      "execution_count": 0,
      "outputs": []
    },
    {
      "cell_type": "code",
      "metadata": {
        "colab_type": "code",
        "id": "PGMPrHn7sWDd",
        "outputId": "216891ba-e87b-481d-a616-6994e96b1634",
        "colab": {
          "base_uri": "https://localhost:8080/",
          "height": 138
        }
      },
      "source": [
        "np.random.shuffle(dataf1)\n",
        "len(dataf1)\n",
        "train = dataf1[:70000]\n",
        "test = dataf1[70000:]\n",
        "\n",
        "X_train = train[:,:45]\n",
        "Y_train = train[ :,45]\n",
        "\n",
        "X_test = test[:,:45]\n",
        "Y_test = test[ :,45]\n",
        "print(X_train, Y_train)"
      ],
      "execution_count": 0,
      "outputs": [
        {
          "output_type": "stream",
          "text": [
            "[[3469    1    1 ...,    1    1    1]\n",
            " [3661    1    1 ...,    1    1    1]\n",
            " [2454    0    1 ...,    1    1    1]\n",
            " ..., \n",
            " [ 383    0    0 ...,    1    1    1]\n",
            " [  43    1    0 ...,    1    1    1]\n",
            " [ 823    0    0 ...,    1    1    1]] [1 1 1 ..., 1 0 1]\n"
          ],
          "name": "stdout"
        }
      ]
    },
    {
      "cell_type": "code",
      "metadata": {
        "colab_type": "code",
        "id": "Mbhz5y99pWkN",
        "colab": {}
      },
      "source": [
        "ridge = RidgeClassifier()\n",
        "alphas = np.array([1, 0.1, 0.01, 0.001, 0.0001, 0])\n",
        "parameters = dict(alpha = alphas)\n",
        "\n",
        "clf = GridSearchCV(ridge, parameters, cv=5)\n",
        "clf.fit(X_train, Y_train)"
      ],
      "execution_count": 0,
      "outputs": []
    },
    {
      "cell_type": "code",
      "metadata": {
        "colab_type": "code",
        "id": "bAlToLRgsX45",
        "outputId": "63e6daaa-bd71-441a-da6e-df6779b3913b",
        "colab": {
          "base_uri": "https://localhost:8080/",
          "height": 121
        }
      },
      "source": [
        "print(clf.best_score_)\n",
        "print(clf.best_params_)\n",
        "print(clf.best_estimator_)\n",
        "print(clf.best_estimator_.alpha)"
      ],
      "execution_count": 0,
      "outputs": [
        {
          "output_type": "stream",
          "text": [
            "0.9186\n",
            "{'alpha': 1.0}\n",
            "RidgeClassifier(alpha=1.0, class_weight=None, copy_X=True, fit_intercept=True,\n",
            "                max_iter=None, normalize=False, random_state=None,\n",
            "                solver='auto', tol=0.001)\n",
            "1.0\n"
          ],
          "name": "stdout"
        }
      ]
    },
    {
      "cell_type": "code",
      "metadata": {
        "colab_type": "code",
        "id": "cBXdbBLPs-7-",
        "outputId": "559d85ff-c77d-48d2-c30e-a0b094cdec0c",
        "colab": {
          "base_uri": "https://localhost:8080/",
          "height": 52
        }
      },
      "source": [
        "answers = clf.best_estimator_.predict(X_test)\n",
        "print(Y_test[:20])"
      ],
      "execution_count": 0,
      "outputs": [
        {
          "output_type": "stream",
          "text": [
            "['0' '0' '1' '1' '0' '1' '0' '1' '0' '0' '0' '1' '1' '1' '0' '0' '0' '0'\n",
            " '1' '1']\n"
          ],
          "name": "stdout"
        }
      ]
    },
    {
      "cell_type": "code",
      "metadata": {
        "colab_type": "code",
        "id": "XAzv3X6Vs_Vw",
        "colab": {}
      },
      "source": [
        "model = clf.best_estimator_\n",
        "pickle.dump(model, open('model.sav', 'wb'))"
      ],
      "execution_count": 0,
      "outputs": []
    },
    {
      "cell_type": "code",
      "metadata": {
        "colab_type": "code",
        "id": "G3S5uEIbL-Ow",
        "outputId": "db2f50a8-76d4-4bc8-c427-4d0121b242f6",
        "colab": {
          "base_uri": "https://localhost:8080/",
          "height": 156
        }
      },
      "source": [
        "nonr = np.array(nonr).reshape(1, -1)\n",
        "print(X_test)\n",
        "answers = clf.best_estimator_.predict(nonr)\n",
        "print(answers)"
      ],
      "execution_count": 0,
      "outputs": [
        {
          "output_type": "stream",
          "text": [
            "[[0 0 0 ... 0 1 1]\n",
            " [1 1 0 ... 1 1 1]\n",
            " [1 0 0 ... 1 1 1]\n",
            " ...\n",
            " [1 1 1 ... 1 1 1]\n",
            " [1 1 1 ... 1 1 1]\n",
            " [0 1 1 ... 0 1 1]]\n",
            "['1']\n"
          ],
          "name": "stdout"
        }
      ]
    },
    {
      "cell_type": "code",
      "metadata": {
        "colab_type": "code",
        "id": "kX7BtWymtCDw",
        "outputId": "092f476f-e1d0-4edf-c791-29d77907e7e4",
        "colab": {
          "base_uri": "https://localhost:8080/",
          "height": 34
        }
      },
      "source": [
        "(answers == Y_test).astype(int).mean()"
      ],
      "execution_count": 0,
      "outputs": [
        {
          "output_type": "execute_result",
          "data": {
            "text/plain": [
              "0.9182763196697139"
            ]
          },
          "metadata": {
            "tags": []
          },
          "execution_count": 501
        }
      ]
    },
    {
      "cell_type": "code",
      "metadata": {
        "id": "9jfEuQcs60lq",
        "colab_type": "code",
        "colab": {}
      },
      "source": [
        "load_model = pickle.load(open('model3_vow.sav', 'rb'))"
      ],
      "execution_count": 0,
      "outputs": []
    },
    {
      "cell_type": "code",
      "metadata": {
        "colab_type": "code",
        "id": "uVzFCUOC73MA",
        "colab": {}
      },
      "source": [
        "# ОСНОВНОЙ КОД, ДЕЛАЕТ БОЛЬШОЙ ДАТАФРЕЙМ, ПОЛУЧАЯ НА ВХОД ДВА СЛОВА И МЕТКУ РИФМКЮТСЯ ИЛИ НЕТ. ВОЗВРАЩАЕТ \n",
        "# ДАТАФРЕЙМ РАЗМЕРОМ N НА 46, ГДЕ N - КОЛЛИЧЕСТВО РИФМОВАННЫХ + НЕ РИФМРВАННЫХ ПАР СЛОВ\n",
        "\n",
        "# НЕ ЗАПУСКАТЬ!!! ГРУЗИТСЯ ДОЛГОООО\n",
        "\n",
        "# with open('dataslittle.csv', 'r', encoding = 'utf-8') as f:\n",
        "#     data = f.readlines()\n",
        "\n",
        "# dataf = pd.DataFrame(columns = range(0, 46))\n",
        "# count_col = 1 \n",
        "\n",
        "# for stroka in data:\n",
        "#     three_words = stroka.replace('\\n', '').split(';')\n",
        "#     list_big = []\n",
        "#     list_two_w_to_copare = []\n",
        "#     for word in three_words:\n",
        "#         if three_words.index(word) == 2:\n",
        "#             pass\n",
        "#         else:\n",
        "#             seg = make_segments_for_word(make_trans(word + '#'))\n",
        "#             list_two_w_to_copare.append(create_matrix_priz(list_priznaki, seg))\n",
        "#     if len(list_two_w_to_copare[0]) < 3  or len(list_two_w_to_copare[1]) < 3:\n",
        "#         pass\n",
        "#     else:\n",
        "#         print(count_col)\n",
        "#         egal = matr_egal(list_two_w_to_copare[0], list_two_w_to_copare[1])\n",
        "#         dataf.loc[count_col, 0:44] = egal\n",
        "#         dataf.loc[count_col, 45] = three_words[-1]\n",
        "#     count_col += 1\n",
        "# dataf.to_csv('data_vectots.csv')"
      ],
      "execution_count": 0,
      "outputs": []
    },
    {
      "cell_type": "code",
      "metadata": {
        "colab_type": "code",
        "id": "GKyUemVlXHBf",
        "outputId": "f7628220-4289-40b5-a3ab-26d0cfd56481",
        "colab": {
          "base_uri": "https://localhost:8080/",
          "height": 34
        }
      },
      "source": [
        "dataf.shape"
      ],
      "execution_count": 0,
      "outputs": [
        {
          "output_type": "execute_result",
          "data": {
            "text/plain": [
              "(97128, 46)"
            ]
          },
          "metadata": {
            "tags": []
          },
          "execution_count": 514
        }
      ]
    },
    {
      "cell_type": "code",
      "metadata": {
        "id": "5DkTQnVV_kbo",
        "colab_type": "code",
        "colab": {}
      },
      "source": [
        "def find_eight_string(list_words, startword, count_str):\n",
        "    if count_str == 0 or count_str == 1 or count_str == 2 or count_str == 3:\n",
        "        befor = list_words[: count_str]\n",
        "    else:\n",
        "        befor = list_words[count_str -4  : count_str]\n",
        "    after = list_words[count_str + 1 :count_str + 5]\n",
        "    return befor, after"
      ],
      "execution_count": 0,
      "outputs": []
    },
    {
      "cell_type": "code",
      "metadata": {
        "colab_type": "code",
        "id": "_Mo2MaMOOU5T",
        "colab": {}
      },
      "source": [
        "# ПРОГА СОЗДАЕТ ВЕКТОР ПОХОЖЕСТИ ДВУХ ВЕКТОРОВ, КОТОРЫЙ ПОДАЕТСЯ НА ВХОД МОДЕЛИ\n",
        "\n",
        "def pred_rythm(word1, word2, count_str, count_str2):\n",
        "    tr = make_trans(word1 + '#')\n",
        "    tr2 = make_trans(word2 + '#')\n",
        "\n",
        "    tr_seg = make_segments_for_word(tr)\n",
        "    tr_seg2 = make_segments_for_word(tr2)\n",
        "\n",
        "    nonr = matr_egal(create_matrix_priz(list_priznaki, make_segments_for_word(tr)), create_matrix_priz(list_priznaki, make_segments_for_word(tr2)))\n",
        "    nonr = np.array(nonr).reshape(1, -1)\n",
        "    if load_model.predict(nonr) == ['1']:\n",
        "        return word1 + ' ' + str(count_str), word2 + ' ' + str(count_str2)\n"
      ],
      "execution_count": 0,
      "outputs": []
    },
    {
      "cell_type": "code",
      "metadata": {
        "id": "DzpjWnfWBfOt",
        "colab_type": "code",
        "colab": {}
      },
      "source": [
        "def make_corteg_of_nodes_of_startword(startword, befor, after, list_corteg_of_nodes, count_str):\n",
        "    if after != []:\n",
        "        count_str2 = count_str + 1\n",
        "        for i in after:\n",
        "            cort = pred_rythm(startword, i, count_str, count_str2)\n",
        "            if cort != None:\n",
        "                list_corteg_of_nodes.append(cort)\n",
        "            count_str2 += 1\n",
        "\n",
        "    return list_corteg_of_nodes"
      ],
      "execution_count": 0,
      "outputs": []
    },
    {
      "cell_type": "code",
      "metadata": {
        "id": "uYVvgp8N_Pr3",
        "colab_type": "code",
        "colab": {}
      },
      "source": [
        "# New_G = nx.Graph()\n",
        "# list_corteg_of_nodes = []\n",
        "# count_str = 0\n",
        "# for i in list_word_to_transc:\n",
        "#     G=nx.Graph()\n",
        "#     if type(i) == list:\n",
        "#         i = ' '.join(i)\n",
        "#     befor_startword, after_startword = find_eight_string(list_word_to_transc, i, count_str)\n",
        "#     list_corteg_of_nodes = make_corteg_of_nodes_of_startword(i, befor_startword, after_startword, list_corteg_of_nodes, count_str)\n",
        "#     count_str += 1\n",
        "# print(list_corteg_of_nodes)\n",
        "# New_G.add_edges_from(list_corteg_of_nodes)\n",
        "    "
      ],
      "execution_count": 0,
      "outputs": []
    },
    {
      "cell_type": "code",
      "metadata": {
        "id": "XddHTAMNCjDi",
        "colab_type": "code",
        "colab": {
          "base_uri": "https://localhost:8080/",
          "height": 54
        },
        "outputId": "3aced900-8d89-42f4-eebc-476852f5e316"
      },
      "source": [
        "# СЧИТЫВАЕТ ИЗ ДАТАФРЕЙМА СО ВСЕМИ СТИХАМИ НЕКОТОРОЕ КОЛИЧЕСТВО СТРОК\n",
        "\n",
        "stix = []\n",
        "# print(verses.loc[:20, 'LineText'])\n",
        "st = verses.loc[:20, 'LineText'].values.tolist()\n",
        "for i in st:\n",
        "    i = i.lower()\n",
        "    i = re.sub(r\"[,!?.;:\\-\\'\\\"]\", '', i)\n",
        "    stix.append(i)\n",
        "\n",
        "print(stix) "
      ],
      "execution_count": 240,
      "outputs": [
        {
          "output_type": "stream",
          "text": [
            "['друзья̀ на что̀ смуща̀ть ещѐ прах нѐосты̀лый', 'бессмѐртного̀ творца̀', 'пуска̀й парѝт любо̀вь над мѝрною̀ могѝлой', 'он блѝжних нѝкогда̀ не о̀горча̀л сердца̀', 'мѝлый зво̀нкий со̀ловѐй', 'на̀сладѝсь весно̀й своѐй', 'по̀й при я̀сностѝ лазу̀ри', 'что̀ до го̀ря что̀ до бу̀ри', 'мѝлый зво̀нкий со̀ловѐй', 'бы̀стро мѝнут со̀рок днѐй', 'мѝлый зво̀нкий со̀ловѐй', 'ты̀ поѐшь  журчѝт ручѐй', 'ѝ луна̀ всё по̀сребря̀ет', 'гдѐ твой го̀лос про̀бега̀ет', 'свѐтлой бы̀строю̀ струѐй', 'по̀й ты о̀тпоѐшь с весно̀й', 'мѝлый зво̀нкий со̀ловѐй', 'на̀живѐшь когда̀ детѐй', 'слу̀х пленя̀ть ты по̀забу̀дешь', 'хло̀пота̀ть нево̀льно бу̀дешь', 'нѐ до пѐсен у̀ж тогда̀']\n"
          ],
          "name": "stdout"
        }
      ]
    },
    {
      "cell_type": "code",
      "metadata": {
        "id": "Lu8xBGxUDOrM",
        "colab_type": "code",
        "colab": {}
      },
      "source": [
        ""
      ],
      "execution_count": 0,
      "outputs": []
    },
    {
      "cell_type": "code",
      "metadata": {
        "id": "B0j7-TndGqc5",
        "colab_type": "code",
        "outputId": "90b59c1b-259a-432f-c16e-2679eb64a846",
        "colab": {
          "base_uri": "https://localhost:8080/",
          "height": 54
        }
      },
      "source": [
        "# СОЗДАЕТ ГРАФ В КОТОРОМ УЗЛЫ - СЛОВА. РЕБРА СОЕДИНЯЮТ ДВА УЗЛА, ЕСЛИ ОНИ РИФМУЮТСЯ\n",
        "\n",
        "New_G = nx.Graph()\n",
        "list_word_to_transc = find_last_words_l(stix)\n",
        "list_corteg_of_nodes = []\n",
        "count_str = 0\n",
        "\n",
        "for i in list_word_to_transc:\n",
        "    G=nx.Graph()\n",
        "    if type(i) == list:\n",
        "        i = ' '.join(i)\n",
        "    befor_startword, after_startword = find_eight_string(find_last_words_l(stix), i, count_str)\n",
        "    list_corteg_of_nodes = make_corteg_of_nodes_of_startword(i, befor_startword, after_startword, list_corteg_of_nodes, count_str)\n",
        "    count_str += 1\n",
        "print(list_corteg_of_nodes)\n",
        "\n",
        "New_G.add_edges_from(list_corteg_of_nodes)"
      ],
      "execution_count": 225,
      "outputs": [
        {
          "output_type": "stream",
          "text": [
            "[('нѐосты̀лый 0', 'могѝлой 2'), ('творца̀ 1', 'сердца̀ 3'), ('со̀ловѐй 4', 'своѐй 5'), ('со̀ловѐй 4', 'со̀ловѐй 8'), ('своѐй 5', 'со̀ловѐй 8'), ('своѐй 5', 'днѐй 9'), ('лазу̀ри 6', 'бу̀ри 7'), ('со̀ловѐй 8', 'днѐй 9'), ('со̀ловѐй 8', 'со̀ловѐй 10'), ('со̀ловѐй 8', 'ручѐй 11'), ('днѐй 9', 'со̀ловѐй 10'), ('днѐй 9', 'ручѐй 11'), ('со̀ловѐй 10', 'ручѐй 11'), ('со̀ловѐй 10', 'струѐй 14'), ('ручѐй 11', 'струѐй 14'), ('ручѐй 11', 'весно̀й 15'), ('по̀сребря̀ет 12', 'про̀бега̀ет 13'), ('струѐй 14', 'весно̀й 15'), ('струѐй 14', 'со̀ловѐй 16'), ('струѐй 14', 'детѐй 17'), ('весно̀й 15', 'со̀ловѐй 16'), ('весно̀й 15', 'детѐй 17'), ('со̀ловѐй 16', 'детѐй 17'), ('по̀забу̀дешь 18', 'бу̀дешь 19')]\n"
          ],
          "name": "stdout"
        }
      ]
    },
    {
      "cell_type": "code",
      "metadata": {
        "id": "D2NwNghILcFf",
        "colab_type": "code",
        "outputId": "0f7f5889-0b57-4e5f-cfd4-b7ae62617152",
        "colab": {
          "base_uri": "https://localhost:8080/",
          "height": 318
        }
      },
      "source": [
        "pos = nx.spring_layout(New_G)\n",
        "nx.draw(New_G, pos, with_labels=True)"
      ],
      "execution_count": 72,
      "outputs": [
        {
          "output_type": "display_data",
          "data": {
            "image/png": "[encoded data removed]",
            "text/plain": [
              "<Figure size 432x288 with 1 Axes>"
            ]
          },
          "metadata": {
            "tags": []
          }
        }
      ]
    },
    {
      "cell_type": "code",
      "metadata": {
        "id": "3ugy1t_Pnlwz",
        "colab_type": "code",
        "colab": {}
      },
      "source": [
        "# ОПРЕДЕЛЯЕТ ВИДЫ РИФМЫ\n",
        "\n",
        "def detect_tochn(word1, word2):\n",
        "    if word1[-4:] == word2[-4:]:\n",
        "        return 'точная'\n",
        "    else:\n",
        "        return 'неточная'\n",
        "\n",
        "def detect_accent(word1, word2):\n",
        "    Vowels = re.findall(r'[а,и,ю,я,е,э,о,ы,у,̀ ]', word1)\n",
        "    if Vowels[-1] == '̀':\n",
        "        return 'мужская'\n",
        "    elif Vowels[-2] == '̀':\n",
        "        return 'женская'\n",
        "    elif Vowels[-3] == '̀':\n",
        "        return 'дактилическая'\n",
        "    elif Vowels[-4] == '̀':\n",
        "        return 'гипердактилическая'\n",
        "\n",
        "def detect_odnorodn(word1, word2):\n",
        "    mor_word1 = morph.parse(word1)[0]\n",
        "    mor_word2 = morph.parse(word2)[0]\n",
        "    # print(mor_word1.tag.POS)\n",
        "    if mor_word1.tag.POS == mor_word2.tag.POS:\n",
        "        return 'однородная'\n",
        "    elif mor_word1.tag.POS != mor_word2.tag.POS and mor_word2.tag.POS not in ['PRCL', 'INTJ', 'CONJ', 'PREP'] and mor_word2.tag.POS not in ['PRCL', 'INTJ', 'CONJ', 'PREP']:\n",
        "        return 'разнородная'\n",
        "    else:\n",
        "        return 'составная'\n"
      ],
      "execution_count": 0,
      "outputs": []
    },
    {
      "cell_type": "code",
      "metadata": {
        "id": "1RiaoxQZaEIW",
        "colab_type": "code",
        "outputId": "1ad7ed26-5d48-455f-c5a9-ec9fad2c5d8b",
        "colab": {
          "base_uri": "https://localhost:8080/",
          "height": 461
        }
      },
      "source": [
        "# ОПРЕДЕЛЕНИЕ РИФМЫ, ЗАПИСЬ В ДАТАФРЕЙМ (МОЖНО ДОБАВИТЬ ОПРЕДЕЛЕНИЕ РИФМОВКИ)\n",
        "\n",
        "def detec_ry(New_G):\n",
        "    count_num_col = 0\n",
        "    for edge in New_G.edges():\n",
        "        # print(edge)\n",
        "        word1 = edge[0].split()[0]\n",
        "        word2 = edge[1].split()[0]\n",
        "        ry_accent = detect_accent(word1, word2)\n",
        "        ry_tocnhn = detect_tochn(word1, word2)\n",
        "        ry_odnor = detect_odnorodn(word1, word2)\n",
        "        # print(edge, ry_accent, ry_tocnhn, ry_odnor)\n",
        "        df_detec_ry.loc[count_num_col] = word1, word2, ry_accent, ry_tocnhn, ry_odnor\n",
        "        count_num_col += 1\n",
        "\n",
        "col = ['слово1', 'слово2', 'рифма_ударение', 'рифма_точная', 'рифма_однородность']\n",
        "df_detec_ry = pd.DataFrame(columns = col)\n",
        "detec_ry(New_G)\n",
        "\n",
        "print(df_detec_ry)\n"
      ],
      "execution_count": 246,
      "outputs": [
        {
          "output_type": "stream",
          "text": [
            "          слово1       слово2 рифма_ударение рифма_точная рифма_однородность\n",
            "0    нѐосты̀лый     могѝлой        женская     неточная        разнородная\n",
            "1        творца̀      сердца̀        мужская     неточная         однородная\n",
            "2      со̀ловѐй       своѐй        мужская     неточная         однородная\n",
            "3      со̀ловѐй    со̀ловѐй        мужская       точная         однородная\n",
            "4         своѐй    со̀ловѐй        мужская     неточная         однородная\n",
            "5         своѐй        днѐй        мужская     неточная         однородная\n",
            "6      со̀ловѐй        днѐй        мужская     неточная         однородная\n",
            "7      со̀ловѐй    со̀ловѐй        мужская       точная         однородная\n",
            "8      со̀ловѐй       ручѐй        мужская     неточная         однородная\n",
            "9          днѐй    со̀ловѐй        мужская     неточная         однородная\n",
            "10         днѐй       ручѐй        мужская     неточная         однородная\n",
            "11       лазу̀ри        бу̀ри        женская       точная         однородная\n",
            "12     со̀ловѐй       ручѐй        мужская     неточная         однородная\n",
            "13     со̀ловѐй      струѐй        мужская     неточная         однородная\n",
            "14        ручѐй      струѐй        мужская     неточная         однородная\n",
            "15        ручѐй      весно̀й        мужская     неточная         однородная\n",
            "16       струѐй      весно̀й        мужская     неточная         однородная\n",
            "17       струѐй    со̀ловѐй        мужская     неточная         однородная\n",
            "18       струѐй       детѐй        мужская     неточная         однородная\n",
            "19       весно̀й    со̀ловѐй        мужская     неточная         однородная\n",
            "20       весно̀й       детѐй        мужская     неточная         однородная\n",
            "21  по̀сребря̀ет  про̀бега̀ет        женская     неточная         однородная\n",
            "22     со̀ловѐй       детѐй        мужская     неточная         однородная\n",
            "23  по̀забу̀дешь      бу̀дешь        женская       точная         однородная\n"
          ],
          "name": "stdout"
        }
      ]
    }
  ]
}