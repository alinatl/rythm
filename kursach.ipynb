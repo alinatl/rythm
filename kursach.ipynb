{
 "cells": [
  {
   "cell_type": "code",
   "execution_count": 0,
   "metadata": {
    "colab": {
     "base_uri": "https://localhost:8080/",
     "height": 210
    },
    "colab_type": "code",
    "collapsed": false,
    "id": "5_EiC0FuHneg",
    "outputId": "2df742e4-58d7-4bc1-933c-b852cd611cc5"
   },
   "outputs": [
    {
     "name": "stdout",
     "output_type": "stream",
     "text": [
      "Requirement already satisfied: epitran in /usr/local/lib/python3.6/dist-packages (1.8)\n",
      "Requirement already satisfied: marisa-trie in /usr/local/lib/python3.6/dist-packages (from epitran) (0.7.5)\n",
      "Requirement already satisfied: panphon>=0.16 in /usr/local/lib/python3.6/dist-packages (from epitran) (0.17)\n",
      "Requirement already satisfied: unicodecsv in /usr/local/lib/python3.6/dist-packages (from epitran) (0.14.1)\n",
      "Requirement already satisfied: setuptools in /usr/local/lib/python3.6/dist-packages (from epitran) (46.1.3)\n",
      "Requirement already satisfied: regex in /usr/local/lib/python3.6/dist-packages (from epitran) (2019.12.20)\n",
      "Requirement already satisfied: editdistance in /usr/local/lib/python3.6/dist-packages (from panphon>=0.16->epitran) (0.5.3)\n",
      "Requirement already satisfied: PyYAML in /usr/local/lib/python3.6/dist-packages (from panphon>=0.16->epitran) (3.13)\n",
      "Requirement already satisfied: munkres in /usr/local/lib/python3.6/dist-packages (from panphon>=0.16->epitran) (1.1.2)\n",
      "Requirement already satisfied: numpy in /usr/local/lib/python3.6/dist-packages (from panphon>=0.16->epitran) (1.18.3)\n"
     ]
    }
   ],
   "source": [
    "!pip3 install epitran"
   ]
  },
  {
   "cell_type": "code",
   "execution_count": 123,
   "metadata": {
    "colab": {},
    "colab_type": "code",
    "collapsed": false,
    "id": "TwHCIPykIgw7"
   },
   "outputs": [],
   "source": [
    "# import epitran\n",
    "import pandas as pd\n",
    "import numpy as np\n",
    "import re\n",
    "import networkx as nx\n",
    "import sklearn\n",
    "import pickle"
   ]
  },
  {
   "cell_type": "code",
   "execution_count": 0,
   "metadata": {
    "colab": {
     "base_uri": "https://localhost:8080/",
     "height": 34
    },
    "colab_type": "code",
    "collapsed": false,
    "id": "7cOvnqxkJYCs",
    "outputId": "b2ac8b01-3198-438c-b81e-32bd3284134c"
   },
   "outputs": [
    {
     "data": {
      "text/plain": [
       "<epitran._epitran.Epitran at 0x7f53912cd1d0>"
      ]
     },
     "execution_count": 153,
     "metadata": {
      "tags": []
     },
     "output_type": "execute_result"
    }
   ],
   "source": [
    "epi = epitran.Epitran('rus-Cyrl')\n",
    "epi"
   ]
  },
  {
   "cell_type": "code",
   "execution_count": 0,
   "metadata": {
    "colab": {
     "base_uri": "https://localhost:8080/",
     "height": 34
    },
    "colab_type": "code",
    "collapsed": false,
    "id": "pCdkMpHDMCad",
    "outputId": "8e8f44da-b673-4742-f26c-0b1e94e2aa7c"
   },
   "outputs": [
    {
     "data": {
      "text/plain": [
       "'mamulʲet͡ɕʲka'"
      ]
     },
     "execution_count": 154,
     "metadata": {
      "tags": []
     },
     "output_type": "execute_result"
    }
   ],
   "source": [
    "epi.transliterate(u'мамулечка')"
   ]
  },
  {
   "cell_type": "code",
   "execution_count": 51,
   "metadata": {
    "colab": {},
    "colab_type": "code",
    "collapsed": true,
    "id": "4L_TVlQFGuH7"
   },
   "outputs": [],
   "source": [
    "with open ('words.csv', 'r', encoding = 'utf-8') as f:\n",
    "    file = f.read().replace('?', '')\n",
    "with open ('rules.csv', 'r', encoding = 'utf-8') as r:\n",
    "    rules = r.read()"
   ]
  },
  {
   "cell_type": "code",
   "execution_count": 52,
   "metadata": {
    "colab": {},
    "colab_type": "code",
    "collapsed": false,
    "id": "KyGnSKPgHX4z"
   },
   "outputs": [],
   "source": [
    "rules = rules.split('\\n')\n",
    "list_words = file.split(';\\n')\n",
    "\n",
    "# print(rules)\n",
    "# print(list_words)"
   ]
  },
  {
   "cell_type": "code",
   "execution_count": 53,
   "metadata": {
    "colab": {
     "base_uri": "https://localhost:8080/",
     "height": 1000
    },
    "colab_type": "code",
    "collapsed": false,
    "id": "Zjz8NRDGHt4W",
    "outputId": "d5a85d99-35ba-43a2-f513-f95ef0afbd71"
   },
   "outputs": [
    {
     "ename": "NameError",
     "evalue": "name 'epi' is not defined",
     "output_type": "error",
     "traceback": [
      "\u001b[1;31m---------------------------------------------------------------------------\u001b[0m",
      "\u001b[1;31mNameError\u001b[0m                                 Traceback (most recent call last)",
      "\u001b[1;32m<ipython-input-53-6f44a9c9c20f>\u001b[0m in \u001b[0;36m<module>\u001b[1;34m()\u001b[0m\n\u001b[0;32m      6\u001b[0m     \u001b[0mtrue_list_words\u001b[0m\u001b[1;33m.\u001b[0m\u001b[0mappend\u001b[0m\u001b[1;33m(\u001b[0m\u001b[0mtwo_words\u001b[0m\u001b[1;33m)\u001b[0m\u001b[1;33m\u001b[0m\u001b[0m\n\u001b[0;32m      7\u001b[0m     \u001b[1;32mfor\u001b[0m \u001b[0mword\u001b[0m \u001b[1;32min\u001b[0m \u001b[0mtwo_words\u001b[0m\u001b[1;33m:\u001b[0m\u001b[1;33m\u001b[0m\u001b[0m\n\u001b[1;32m----> 8\u001b[1;33m         \u001b[0mword_ipa\u001b[0m \u001b[1;33m=\u001b[0m \u001b[0mepi\u001b[0m\u001b[1;33m.\u001b[0m\u001b[0mtransliterate\u001b[0m\u001b[1;33m(\u001b[0m\u001b[0mword\u001b[0m\u001b[1;33m)\u001b[0m\u001b[1;33m\u001b[0m\u001b[0m\n\u001b[0m\u001b[0;32m      9\u001b[0m         \u001b[0mlist_words_ipa\u001b[0m\u001b[1;33m.\u001b[0m\u001b[0mappend\u001b[0m\u001b[1;33m(\u001b[0m\u001b[0mword_ipa\u001b[0m\u001b[1;33m)\u001b[0m\u001b[1;33m\u001b[0m\u001b[0m\n\u001b[0;32m     10\u001b[0m \u001b[0mlist_words_ipa\u001b[0m\u001b[1;33m\u001b[0m\u001b[0m\n",
      "\u001b[1;31mNameError\u001b[0m: name 'epi' is not defined"
     ]
    }
   ],
   "source": [
    "# ПОСТРОЕНИЕ ТРАНСКРИПЦИЙ В ЭПИТРАНЕ\n",
    "\n",
    "# true_list_words = []\n",
    "# list_words_ipa = []\n",
    "\n",
    "# for two_words in list_words:\n",
    "#     two_words = two_words.split(';')\n",
    "#     true_list_words.append(two_words)\n",
    "#     for word in two_words: \n",
    "#         word_ipa = epi.transliterate(word)\n",
    "#         list_words_ipa.append(word_ipa)\n",
    "# list_words_ipa"
   ]
  },
  {
   "cell_type": "code",
   "execution_count": 54,
   "metadata": {
    "colab": {
     "base_uri": "https://localhost:8080/",
     "height": 34
    },
    "colab_type": "code",
    "collapsed": false,
    "id": "V1FYdVhfJxwm",
    "outputId": "7b2de538-4f18-42e0-ce1e-95dfb9245635"
   },
   "outputs": [
    {
     "name": "stdout",
     "output_type": "stream",
     "text": [
      "Requirement already satisfied: phonetic-algorithmIPA in c:\\users\\user\\anaconda3\\lib\\site-packages (0.2.4)\n"
     ]
    }
   ],
   "source": [
    "!pip install phonetic-algorithmIPA\n",
    "from phonetic_algorithmIPA import ipa_distances\n",
    "ipa = ipa_distances.PhoneticAlgorithmIPA()"
   ]
  },
  {
   "cell_type": "code",
   "execution_count": 130,
   "metadata": {
    "colab": {
     "base_uri": "https://localhost:8080/",
     "height": 1000
    },
    "colab_type": "code",
    "collapsed": false,
    "id": "tcG0SfolNdCU",
    "outputId": "a03f498f-28f1-49d1-a835-ad8bf420d611"
   },
   "outputs": [],
   "source": [
    "# ПОСТРОЕНИЕ ТРАНСКРИПЦИЯ В phonetic-algorithmIPAБ\n",
    "# ПОИСК РАССТОЯНИЯ ЛЕВЕНШТЕЙНА\n",
    "\n",
    "# a = ipa.phonetic_transformer('words.csv', 'rules.csv', typ='Non LS')\n",
    "# a"
   ]
  },
  {
   "cell_type": "code",
   "execution_count": 30,
   "metadata": {
    "colab": {},
    "colab_type": "code",
    "collapsed": false,
    "id": "BsZwM6r9SNF1"
   },
   "outputs": [],
   "source": [
    "list_rules = []\n",
    "for i in rules:\n",
    "    list_rules.append(i.split(';'))"
   ]
  },
  {
   "cell_type": "code",
   "execution_count": 31,
   "metadata": {
    "colab": {},
    "colab_type": "code",
    "collapsed": false,
    "id": "krQ3N-nSSldy"
   },
   "outputs": [],
   "source": [
    "word = 'меня'\n",
    "\n",
    "def zamena(word, index_letter, rule):\n",
    "    # print(index_letter)\n",
    "    letter = word[index_letter]\n",
    "    if rule[0] == word[index_letter]:\n",
    "        if rule[2] == '':\n",
    "            word = word.replace(word[index_letter], rule[1])\n",
    "            # index_letter += len(rule[1]) - len(rule[0])\n",
    "            return word\n",
    "\n",
    "        if rule[2][1] == word[index_letter+1] or rule[2][0] == word[index_letter-1]:\n",
    "            if rule[2][1] == word[index_letter+1]:\n",
    "                word = word.replace(word[index_letter], rule[1], 1)\n",
    "                # index_letter += len(rule[1]) - len(rule[0])\n",
    "                return word\n",
    "\n",
    "        # print(rule[2][0] == word[index_letter-1])\n",
    "        if rule[2][0] == word[index_letter-1]:\n",
    "            print(rule[2][0])\n",
    "            word = word.replace(word[index_letter], rule[1], 1)\n",
    "            # index_letter += len(rule[1]) - len(rule[0])\n",
    "            return word\n",
    "\n",
    "        else:\n",
    "            # print('e')\n",
    "            # index_letter += len(rule[1]) - len(rule[0])\n",
    "            return word\n",
    "\n",
    "    else:\n",
    "    # index_letter += len(rule[1]) - len(rule[0])\n",
    "        return word\n"
   ]
  },
  {
   "cell_type": "code",
   "execution_count": 32,
   "metadata": {
    "colab": {
     "base_uri": "https://localhost:8080/",
     "height": 138
    },
    "colab_type": "code",
    "collapsed": false,
    "id": "WewQCx0koam2",
    "outputId": "28c5b750-4ddf-4d33-89ea-dc57cfde4b9e"
   },
   "outputs": [
    {
     "data": {
      "text/plain": [
       "[['м', 'мʲ', '_j'],\n",
       " ['м', 'мʲ', '_е'],\n",
       " ['м', 'мʲ', '_ё'],\n",
       " ['м', 'мʲ', '_и'],\n",
       " ['м', 'мʲ', '_ю'],\n",
       " ['м', 'мʲ', '_я'],\n",
       " ['м', 'm', '']]"
      ]
     },
     "execution_count": 32,
     "metadata": {},
     "output_type": "execute_result"
    }
   ],
   "source": [
    "# РАЗБИЕНИЕ ПРАВИЛ ПО ПРИОРИТЕТАМ ПРИМЕНЕНИЯ К СЛОВУ\n",
    "\n",
    "letter = 'м'\n",
    "def rule_for_letter(letter, rules):\n",
    "    firstPrior_rules_for_letter = []\n",
    "    SecondPrior_rules_for_letter = []\n",
    "    for rule in rules:\n",
    "        if rule[0] == letter and rule[2] != '':\n",
    "            firstPrior_rules_for_letter.append(rule)\n",
    "            # print('prior', firstPrior_rules_for_letter)\n",
    "        elif rule[0] == letter and rule[2] == '':\n",
    "            SecondPrior_rules_for_letter.append(rule)\n",
    "            # print('second', SecondPrior_rules_for_letter)\n",
    "    return firstPrior_rules_for_letter + SecondPrior_rules_for_letter\n",
    "\n",
    "ru = rule_for_letter(letter, list_rules)\n",
    "ru"
   ]
  },
  {
   "cell_type": "code",
   "execution_count": 33,
   "metadata": {
    "colab": {
     "base_uri": "https://localhost:8080/",
     "height": 34
    },
    "colab_type": "code",
    "collapsed": false,
    "id": "HRwca_mQfe2u",
    "outputId": "b9383015-d5e8-4560-c118-246677eca6fb"
   },
   "outputs": [
    {
     "data": {
      "text/plain": [
       "'vzʲiraet#'"
      ]
     },
     "execution_count": 33,
     "metadata": {},
     "output_type": "execute_result"
    }
   ],
   "source": [
    "# ФУНКЦИЯ ДЕЛАЕТ ТРАНСКРИПЦИЮ\n",
    "\n",
    "def make_trans(word):\n",
    "    word_base = word\n",
    "    index_letter = 0\n",
    "    for letter in word:\n",
    "        prioritete_rule = rule_for_letter(letter, list_rules)\n",
    "        # print(prioritete_rule, word)\n",
    "        for i in prioritete_rule:\n",
    "            # print(word, index_letter, i)\n",
    "            word = zamena(word, index_letter, i)\n",
    "        index_letter += 1 + len(word) - len(word_base)\n",
    "        word_base = word\n",
    "        # print(word)\n",
    "    return word\n",
    "\n",
    "make_trans('взирает#')"
   ]
  },
  {
   "cell_type": "code",
   "execution_count": 58,
   "metadata": {
    "colab": {
     "base_uri": "https://localhost:8080/",
     "height": 34
    },
    "colab_type": "code",
    "collapsed": false,
    "id": "tUNaNhRFyy9B",
    "outputId": "363c19ae-7f8d-4506-9fcd-c7cea77a5510"
   },
   "outputs": [
    {
     "data": {
      "text/plain": [
       "['домой', 'зимой']"
      ]
     },
     "execution_count": 58,
     "metadata": {},
     "output_type": "execute_result"
    }
   ],
   "source": [
    "short_list = []\n",
    "for two_w in list_words:\n",
    "    j = two_w.split(';')\n",
    "    short_list.append(j)\n",
    "short_list[-2]"
   ]
  },
  {
   "cell_type": "code",
   "execution_count": 129,
   "metadata": {
    "colab": {
     "base_uri": "https://localhost:8080/",
     "height": 54
    },
    "colab_type": "code",
    "collapsed": false,
    "id": "FReepK0ujaKg",
    "outputId": "d93b26c0-a40b-4565-cd58-ff3ce7e82ec4"
   },
   "outputs": [],
   "source": [
    "big_list_trans = []\n",
    "for pair in short_list[:-1]:\n",
    "    for word in pair:\n",
    "        two_w = make_trans(word +'#')\n",
    "        big_list_trans.append(two_w)\n"
   ]
  },
  {
   "cell_type": "code",
   "execution_count": 69,
   "metadata": {
    "colab": {
     "base_uri": "https://localhost:8080/",
     "height": 1000
    },
    "colab_type": "code",
    "collapsed": false,
    "id": "HE9Zb5ut1TaE",
    "outputId": "a2980506-03c5-4135-dca9-21c08cf1736f"
   },
   "outputs": [],
   "source": [
    "#  with open('transcript.csv', 'w', encoding = 'utf-8') as f:\n",
    "#   for pair in big_list_trans:\n",
    "#     for w in pair:\n",
    "#       f.write(w)\n",
    "#     f.write('\\n')\n",
    "# with open('transcript.csv', 'r', encoding = 'utf-8') as f:\n",
    "#   fi = f.read()\n",
    "#   print(fi)"
   ]
  },
  {
   "cell_type": "code",
   "execution_count": 78,
   "metadata": {
    "colab": {
     "base_uri": "https://localhost:8080/",
     "height": 34
    },
    "colab_type": "code",
    "collapsed": false,
    "id": "V2-0A02LzSHH",
    "outputId": "05b377bb-3af5-4c68-9448-13dd6006383d"
   },
   "outputs": [
    {
     "name": "stdout",
     "output_type": "stream",
     "text": [
      "(['m)e', 'n', 'a'], 'n')\n"
     ]
    }
   ],
   "source": [
    "# СОЕДИНЯЕТ ДИАКРИТИКИ И ДРУГИЕ СПЕЦИАЛЬНЫЕ СО ВЛОВАМИ, К КОТОРЫМ ОНИ ОТНОСЯТСЯ\n",
    "\n",
    "diacritic = { \"ʲ\" : [ 'pos', { 'round': '+' } ], \"ˈ\" : [ 'pre', { 'round': '+' } ],  \")\": [ 'betw', { 'round': '+' } ]}\n",
    "def find_diacr(word, letter, symbol):\n",
    "    word = list(word)\n",
    "    if symbol[0] == letter:\n",
    "        if diacritic[symbol][0] == 'pos':\n",
    "            pre = word[:word.index(letter) - 1]\n",
    "            diacr = [word[word.index(letter) - 1] + word[word.index(letter)]]\n",
    "            post = word[word.index(letter) + 1:]\n",
    "            new_word = pre + diacr + post\n",
    "            # print(new_word)\n",
    "            return new_word, letter\n",
    "\n",
    "# diacritic[symbol][0]\n",
    "        elif diacritic[symbol][0] == 'pre':\n",
    "            pre = word[:word.index(letter)]\n",
    "            diacr = [word[word.index(letter)] + word[word.index(letter)+ 1 ]]\n",
    "            post = word[word.index(letter) + 2:]\n",
    "            new_word = pre + diacr + post\n",
    "            letter = word[word.index(letter) + 2]\n",
    "            # print(letter)\n",
    "            return new_word, letter \n",
    "      \n",
    "        elif diacritic[symbol][0] == 'betw':\n",
    "            pre = word[:word.index(letter) - 1]\n",
    "            diacr = [word[word.index(letter) - 1 ] + word[word.index(letter)] + word[word.index(letter)+ 1]]\n",
    "            post = word[word.index(letter) + 2:]\n",
    "            new_word = pre + diacr + post\n",
    "            letter = word[word.index(letter) + 2]\n",
    "            # print(new_word)\n",
    "            return new_word, letter \n",
    "\n",
    "    else:\n",
    "        return word, letter\n",
    "    \n",
    "\n",
    "print(find_diacr (['m', ')', 'e', 'n', 'a'], ')', ')'))"
   ]
  },
  {
   "cell_type": "code",
   "execution_count": 63,
   "metadata": {
    "colab": {},
    "colab_type": "code",
    "collapsed": true,
    "id": "arZA7xlh9Z2T"
   },
   "outputs": [],
   "source": [
    "# РАЗДЕЛЯЕТ ВСЕ СЛОВА В ЛИСТЕ НА СЕГМЕНТЫ\n",
    "\n",
    "def make_segments_list(big_list_trans):\n",
    "    segments = []\n",
    "    for word in big_list_trans:\n",
    "        try:\n",
    "            for letter in word:\n",
    "                for symbol in diacritic.keys():\n",
    "                    word, letter = find_diacr(word, letter, symbol)\n",
    "        except ValueError:\n",
    "            pass\n",
    "        segments.append(word)\n",
    "    return segments"
   ]
  },
  {
   "cell_type": "code",
   "execution_count": 68,
   "metadata": {
    "colab": {},
    "colab_type": "code",
    "collapsed": false,
    "id": "cbypjHMDcju2"
   },
   "outputs": [
    {
     "name": "stdout",
     "output_type": "stream",
     "text": [
      "['Духовной жаждою томим', 'В пустыне мрачной я влачился ', 'И шестикрылый серафим', 'На перепутьи мне явился', 'Перстами легкими как сон', 'Моих зениц коснулся он', 'Отверзлись вещие зеницы', 'Как у испуганной орлицы', 'Моих ушей коснулся он ', 'И их наполнил шум и звон', 'И внял я неба содроганье', 'И горний ангелов полет', 'И гад морских подводный ход', 'И дольней лозы прозябанье', 'И он к устам моим приник', 'И вырвал грешный мой язык', 'И празднословный и лукавый', 'И жало мудрыя змеи', 'В уста замершие мои', 'Вложил десницею кровавой', 'И он мне грудь рассек мечом', 'И сердце трепетное вынул', 'И угль пылающий огнем', 'Во грудь отверстую водвинул', 'Как труп в пустыне я лежал', 'И бога глас ко мне воззвал', 'Восстань пророк и виждь и внемли', 'Исполнись волею моей', 'И обходя моря и земли', 'Глаголом жги сердца людей']\n"
     ]
    }
   ],
   "source": [
    "with open('puschkin.txt', 'r', encoding = 'utf-8') as f:\n",
    "    file = f.read()\n",
    "    file = re.sub(r\"[,!?.;:\\-\\'\\\"]\", '', file)\n",
    "file = file.split('\\n')\n",
    "print(file)"
   ]
  },
  {
   "cell_type": "code",
   "execution_count": 131,
   "metadata": {
    "colab": {
     "base_uri": "https://localhost:8080/",
     "height": 1000
    },
    "colab_type": "code",
    "collapsed": false,
    "id": "dKsLwABraJYn",
    "outputId": "72ad3a59-83c1-4d8c-a9c6-9d44ff621d36"
   },
   "outputs": [
    {
     "name": "stdout",
     "output_type": "stream",
     "text": [
      "томим\n",
      "влачился\n",
      "серафим\n",
      "явился\n",
      "сон\n",
      "он\n",
      "зеницы\n",
      "орлицы\n",
      "он\n",
      "звон\n",
      "содроганье\n",
      "полет\n",
      "ход\n",
      "прозябанье\n",
      "приник\n",
      "язык\n",
      "лукавый\n",
      "змеи\n",
      "мои\n",
      "кровавой\n",
      "мечом\n",
      "вынул\n",
      "огнем\n",
      "водвинул\n",
      "лежал\n",
      "воззвал\n",
      "внемли\n",
      "моей\n",
      "земли\n",
      "людей\n"
     ]
    }
   ],
   "source": [
    "# ДОСТАЕТ В СТИХЕ ПУШКИНА ПОСЛЕДНИЕ СЛОВА\n",
    "\n",
    "list_word_to_transc = []\n",
    "for i in file:\n",
    "    # print(i)\n",
    "    if i != '':\n",
    "        last_word = i.rstrip(' ').split(' ')[-1]\n",
    "        print(last_word)\n",
    "        if len(last_word) >= 4:\n",
    "            word_to_transc = last_word\n",
    "            list_word_to_transc.append(word_to_transc)\n",
    "        else:\n",
    "            word_to_transc = i.split(' ')[-2:]\n",
    "            word_to_transc = ' '.join(word_to_transc)\n",
    "            list_word_to_transc.append(word_to_transc)\n",
    "    else:\n",
    "        file.remove('')\n",
    "\n",
    "\n",
    "# list_word_to_transc"
   ]
  },
  {
   "cell_type": "code",
   "execution_count": 81,
   "metadata": {
    "colab": {},
    "colab_type": "code",
    "collapsed": true,
    "id": "8IH9bHpKajn1"
   },
   "outputs": [],
   "source": [
    "# ДЕЛАЕТ ТРАНСКРИПЦИЮ ДЛЯ СПИСКА СЛОВ\n",
    "\n",
    "def make_trans_for_list(list_word_to_transc):\n",
    "    list_transc_push = []\n",
    "    for i in list_word_to_transc:\n",
    "        if ' ' in i:\n",
    "            two_words_in_one = i.replace(' ' , '')\n",
    "            list_transc_push.append(make_trans(two_words_in_one + '#'))\n",
    "        else:\n",
    "            list_transc_push.append(make_trans(i+'#'))\n",
    "    return list_transc_push"
   ]
  },
  {
   "cell_type": "code",
   "execution_count": 80,
   "metadata": {
    "colab": {
     "base_uri": "https://localhost:8080/",
     "height": 624
    },
    "colab_type": "code",
    "collapsed": false,
    "id": "5xl8KYvYj3hG",
    "outputId": "4f5b1cd9-3a16-453a-fe83-39ab8aebf5e6"
   },
   "outputs": [
    {
     "data": {
      "text/plain": [
       "[['t', 'o', 'mʲ', 'i', 'm', '#'],\n",
       " ['v', 'l', 'a', 't)ɕʲ', 'i', 'l', 'sʲ', 'a', '#'],\n",
       " ['sʲ', 'e', 'r', 'a', 'fʲ', 'i', 'm', '#'],\n",
       " ['a', 'vʲ', 'i', 'l', 's', 'a', '#'],\n",
       " ['k', 'a', 'k', 's', 'o', 'n', '#'],\n",
       " ['k', 'o', 's', 'n', 'u', 'l', 's', 'a', 'o', 'n', '#'],\n",
       " ['zʲ', 'e', 'nʲ', 'i', 't)s', 'ɨ', '#'],\n",
       " ['o', 'r', 'lʲ', 'i', 't)s', 'ɨ', '#'],\n",
       " ['o', 'n', '#'],\n",
       " ['z', 'v', 'o', 'n', '#'],\n",
       " ['s', 'o', 'd', 'r', 'o', 'ɡ', 'a', 'n', 'e', '#'],\n",
       " ['p', 'o', 'lʲ', 'e', 't', '#'],\n",
       " ['p', 'o', 'd', 'v', 'o', 'd', 'n', 'ɨ', 'j', 'x', 'o', 'd', '#'],\n",
       " ['p', 'r', 'o', 'zʲ', 'a', 'b', 'a', 'n', 'e', '#'],\n",
       " ['p', 'rʲ', 'i', 'n', 'i', 'k', '#'],\n",
       " ['a', 'z', 'ɨ', 'k', '#'],\n",
       " ['l', 'u', 'k', 'a', 'v', 'ɨ', 'j', '#'],\n",
       " ['z', 'mʲ', 'e', 'i', '#'],\n",
       " ['z', 'a', 'mʲ', 'e', 'r', 'ʂ', 'i', 'e', 'm', 'o', 'i', '#'],\n",
       " ['k', 'r', 'o', 'v', 'a', 'v', 'o', 'j', '#'],\n",
       " ['mʲ', 'e', 't)ɕʲ', 'o', 'm', '#'],\n",
       " ['v', 'ɨ', 'n', 'u', 'l', '#'],\n",
       " ['o', 'ɡ', 'nʲ', 'e', 'm', '#'],\n",
       " ['v', 'o', 'd', 'v', 'i', 'n', 'u', 'l', '#'],\n",
       " ['lʲ', 'e', 'ʒ', 'a', 'l', '#'],\n",
       " ['v', 'o', 'z', 'z', 'v', 'a', 'l', '#'],\n",
       " ['v', 'nʲ', 'e', 'm', 'lʲ', 'i', '#'],\n",
       " ['m', 'o', 'e', 'j', '#'],\n",
       " ['zʲ', 'e', 'm', 'lʲ', 'i', '#'],\n",
       " ['lʲ', 'u', 'dʲ', 'e', 'j', '#']]"
      ]
     },
     "execution_count": 80,
     "metadata": {},
     "output_type": "execute_result"
    }
   ],
   "source": [
    "segments = make_segments_list(make_trans_for_list(list_word_to_transc))\n",
    "segments"
   ]
  },
  {
   "cell_type": "code",
   "execution_count": 82,
   "metadata": {
    "colab": {},
    "colab_type": "code",
    "collapsed": true,
    "id": "PtpDUabBhiXx"
   },
   "outputs": [],
   "source": [
    "# ВЫДЕЛЯЕТ ПОСЛЕДНИЕ ЧЕТЫРЕ ЭЛЕМЕНТА В СЛОВЕ\n",
    "\n",
    "\n",
    "def segments_four_last_func(segments):\n",
    "    segments_four_last = ''\n",
    "    count = 0\n",
    "    for i in segments:\n",
    "        str_word = ''\n",
    "        str_word = ''.join(i[-5:-1:])\n",
    "        if count % 2 == 0:\n",
    "            segments_four_last += ''.join(str_word + ';')\n",
    "            count += 1\n",
    "        else:\n",
    "            segments_four_last += ''.join(str_word + '\\n')\n",
    "            count += 1\n",
    "    print(segments_four_last)\n",
    "    return segments_four_last"
   ]
  },
  {
   "cell_type": "code",
   "execution_count": 91,
   "metadata": {
    "colab": {},
    "colab_type": "code",
    "collapsed": true,
    "id": "aBIm8_bPbaDk"
   },
   "outputs": [],
   "source": [
    "# СЧИТАЕТ РАССТОЯНИЕ ПО ЛЕВЕНШТЕЙНУ МЕЖДУ ДВУМЯ СЛОВАМИ\n",
    "\n",
    "\n",
    "def find_distance(str_word_first, str_word_second):\n",
    "    with open('trans_four.csv', 'w', encoding = 'utf-8') as f:\n",
    "        f.write(str_word_first + ';' + str_word_second)\n",
    "    c = ipa.phonetic_distance('trans_four.csv', normalize = False)\n",
    "    return c"
   ]
  },
  {
   "cell_type": "code",
   "execution_count": 89,
   "metadata": {
    "colab": {},
    "colab_type": "code",
    "collapsed": true,
    "id": "vNYWArq8zPqZ"
   },
   "outputs": [],
   "source": [
    "# ФУНКЦИЯ ИЩЕТ ВОСЕМЬ БЛИЖАЙШИХ СТРОК К ЗАДАНОЙ СТРОКЕ\n",
    "\n",
    "\n",
    "def find_eight_string(list_words, startword):\n",
    "    if list_words.index(startword) == 0 or list_words.index(startword) == 1 or list_words.index(startword) == 2 or list_words.index(startword) == 3:\n",
    "        befor = list_words[: list_words.index(startword)]\n",
    "    else:\n",
    "        befor = list_words[list_words.index(startword) -4  : list_words.index(startword)]\n",
    "    after = list_words[list_words.index(startword) + 1 : list_words.index(startword) + 5]\n",
    "    return befor, after\n",
    "\n",
    "# ФУНКЦИЯ ВЫДАЕТ ДИСТАНЦИЮ МЕЖДУ СТАРТОВЫМ УЗЛОМ И УЗЛАМИ, СВЯЗАННЫМИ С НИМ  \n",
    "\n",
    "\n",
    "def make_corteg_distance_for_nodes(startword, befor, after):\n",
    "    list_corteg_distance_for_nodes = []\n",
    "    startword_seg = make_segments_list(make_trans_for_list([startword]))[0]\n",
    "    str_word_first = ''.join(startword_seg[-4:-1:])\n",
    "    if befor != []:\n",
    "        seg_befor = make_segments_list(make_trans_for_list(befor))\n",
    "        for i in seg_befor:\n",
    "            str_word_second = ''.join(i[-4:-1:])\n",
    "            cort = (startword, befor[seg_befor.index(i)], find_distance(str_word_first, str_word_second))\n",
    "            list_corteg_distance_for_nodes.append(cort)\n",
    "\n",
    "    if after != []:\n",
    "        seg_after = make_segments_list(make_trans_for_list(after))\n",
    "        for i in seg_after:\n",
    "            str_word_second = ''.join(i[-4:-1:])\n",
    "            cort = (startword, after[seg_after.index(i)], find_distance(str_word_first, str_word_second))\n",
    "            list_corteg_distance_for_nodes.append(cort)\n",
    "    return list_corteg_distance_for_nodes\n",
    "  \n",
    "\n",
    "  \n",
    "\n",
    "\n",
    "\n",
    "\n",
    "# лист восьми (спереди и сзади) ближайших соседей слова старт\n",
    "# построение их транскрипции \n",
    "# нахождение растоянияния для каждой\n",
    "# \n",
    "# записываю новый узел в граф если узел = минимальное растояние до этого слова\n",
    "# подумать как оформить одиночные строки"
   ]
  },
  {
   "cell_type": "code",
   "execution_count": 85,
   "metadata": {
    "colab": {},
    "colab_type": "code",
    "collapsed": true,
    "id": "YfSOSoOH2opZ"
   },
   "outputs": [],
   "source": [
    "def find_min(node):\n",
    "    weight =None\n",
    "    min_dist = 3\n",
    "    cort_min = ()\n",
    "    for j in G.edges(node):\n",
    "        weight = G.get_edge_data(j[0], j[1])['weight']\n",
    "        if min_dist == 3:\n",
    "            min_dist = weight\n",
    "            cort_min = (min_dist, j)\n",
    "\n",
    "        elif min_dist > weight:\n",
    "            New_G.add_edge(j[0], j[1])\n",
    "            min_dist = weight\n",
    "            cort_min = (min_dist, j)\n",
    "    return cort_min "
   ]
  },
  {
   "cell_type": "code",
   "execution_count": 135,
   "metadata": {
    "colab": {
     "base_uri": "https://localhost:8080/",
     "height": 1000
    },
    "colab_type": "code",
    "collapsed": false,
    "id": "BgAw9ymFZikH",
    "outputId": "d782801d-de72-4bc3-9b4b-17ba98597b96"
   },
   "outputs": [
    {
     "name": "stdout",
     "output_type": "stream",
     "text": [
      "[('томим', 'серафим'), ('влачился', 'явился'), ('серафим', 'томим'), ('явился', 'влачился'), ('как сон', 'коснулся он'), ('коснулся он', 'звон'), ('зеницы', 'орлицы'), ('орлицы', 'зеницы'), ('он ', 'звон'), ('звон', 'подводный ход'), ('содроганье', 'прозябанье'), ('полет', 'приник'), ('подводный ход', 'звон'), ('прозябанье', 'содроганье'), ('приник', 'язык'), ('язык', 'приник'), ('лукавый', 'кровавой'), ('змеи', 'замершие мои'), ('замершие мои', 'змеи'), ('кровавой', 'лукавый'), ('мечом', 'огнем'), ('вынул', 'водвинул'), ('огнем', 'мечом'), ('водвинул', 'вынул'), ('лежал', 'воззвал'), ('воззвал', 'лежал'), ('внемли', 'земли'), ('моей', 'людей'), ('земли', 'внемли'), ('людей', 'моей')]\n"
     ]
    }
   ],
   "source": [
    "# ПЫТАЮСЬ ПОСТРОИТЬ ГРАФ (New_G), СВЯЗИ В КОТОРОМ БУДУТ ОБОЗНАЧАТЬ РИФМУ, А УЗЛЯ - РИФМУЮЩИЕСЯ СЛОВА\n",
    "\n",
    "\n",
    "weight =None\n",
    "min_dist = 3  \n",
    "list_cort_edges_for_G = []\n",
    "\n",
    "New_G = nx.Graph()\n",
    "for i in list_word_to_transc:\n",
    "    New_G.add_node(i)\n",
    "    \n",
    "for i in list_word_to_transc:\n",
    "    G=nx.Graph()\n",
    "    if type(i) == list:\n",
    "        i = ' '.join(i)\n",
    "    befor_startword, after_startword = find_eight_string(list_word_to_transc, i)\n",
    "    list_corteg_distance_for_node_i = make_corteg_distance_for_nodes(i, befor_startword, after_startword)\n",
    "    G.add_weighted_edges_from(list_corteg_distance_for_node_i)\n",
    "#     print(G.edges())\n",
    "    cort_min = find_min(i)\n",
    "#     print(cort_min, '\\n', cort_min[1][0], cort_min[1][1])\n",
    "    list_cort_edges_for_G.append((cort_min[1][0], cort_min[1][1]))\n",
    "print(list_cort_edges_for_G)\n",
    "New_G.add_edges_from(list_cort_edges_for_G)\n"
   ]
  },
  {
   "cell_type": "code",
   "execution_count": 93,
   "metadata": {
    "colab": {
     "base_uri": "https://localhost:8080/",
     "height": 318
    },
    "colab_type": "code",
    "collapsed": false,
    "id": "PC6ZclM3BGfq",
    "outputId": "5d372bee-3549-4b26-9804-7562f3672a79"
   },
   "outputs": [],
   "source": [
    "pos = nx.spring_layout(New_G)\n",
    "nx.draw(New_G, pos, with_labels=True)"
   ]
  },
  {
   "cell_type": "code",
   "execution_count": 94,
   "metadata": {
    "collapsed": true
   },
   "outputs": [],
   "source": [
    "# ДАЛЬШЕ Я НАЧИНАЮ ПОДГОТОВКУ ДАННЫХ К ОБУЧЕНИЮ СВОЕЙ МОДЕЛЬКИ"
   ]
  },
  {
   "cell_type": "code",
   "execution_count": 98,
   "metadata": {
    "colab": {},
    "colab_type": "code",
    "collapsed": true,
    "id": "xcbb9KCp-aCe"
   },
   "outputs": [],
   "source": [
    "with open ('priznaki.txt', 'r') as f:\n",
    "    priznaki = f.readlines()"
   ]
  },
  {
   "cell_type": "code",
   "execution_count": 125,
   "metadata": {
    "colab": {
     "base_uri": "https://localhost:8080/",
     "height": 54
    },
    "colab_type": "code",
    "collapsed": false,
    "id": "ssMtMD2Eq6_H",
    "outputId": "910c98d0-ecdf-4462-dbb0-94d716424d52"
   },
   "outputs": [
    {
     "name": "stdout",
     "output_type": "stream",
     "text": [
      "[['+', '+', '-', '?', '?', '-', '-', '-', '-', '+', '?', '?', '?', '?', '?'], ['+', '+', '-', '?', '?', '-', '+', '+', '-', '+', '?', '?', '?', '?', '?']]\n"
     ]
    }
   ],
   "source": [
    "# ПРИПИСЫВАЕТ ПРИЗНАКИ ЗВУКАМ, ВЫДАЕТ ЛИСТ С ЛИСТАМИ\n",
    "\n",
    "list_priznaki = []\n",
    "for i in priznaki:\n",
    "    list_priznaki.append(i.split(';'))\n",
    "\n",
    "def create_matrix_priz(list_priznaki, word):\n",
    "    list_priz_for_word = []\n",
    "    for letter in word[-4:-1:]:\n",
    "        for i in list_priznaki:\n",
    "            if letter == i[0]:\n",
    "                list_priz_for_word.append(i[2:17])\n",
    "\n",
    "#     matrix_priz_for_word = np.array(a)\n",
    "    return list_priz_for_word\n",
    "\n",
    "# for word in segments:\n",
    "  # print(word)\n",
    "print(create_matrix_priz(list_priznaki, ['mʲ', 'e', 'nʲ', 'a', '#']))"
   ]
  },
  {
   "cell_type": "code",
   "execution_count": 100,
   "metadata": {
    "colab": {
     "base_uri": "https://localhost:8080/",
     "height": 34
    },
    "colab_type": "code",
    "collapsed": false,
    "id": "LFKaa3hNsDYr",
    "outputId": "970b59cb-9bfe-4fbb-fe4e-791855b2dc6a"
   },
   "outputs": [
    {
     "data": {
      "text/plain": [
       "15"
      ]
     },
     "execution_count": 100,
     "metadata": {},
     "output_type": "execute_result"
    }
   ],
   "source": [
    "simple = [2, 3, 5, 7, 11, 13, 17, 19, 23, 29, 31, 37, 41, 43, 47]\n",
    "len(simple)"
   ]
  },
  {
   "cell_type": "code",
   "execution_count": 101,
   "metadata": {
    "colab": {
     "base_uri": "https://localhost:8080/",
     "height": 34
    },
    "colab_type": "code",
    "collapsed": false,
    "id": "Feb95VGLjxFK",
    "outputId": "226f563e-8746-4727-9211-d63cdd200842"
   },
   "outputs": [
    {
     "data": {
      "text/plain": [
       "['d', 'nʲ', 'a', '#']"
      ]
     },
     "execution_count": 101,
     "metadata": {},
     "output_type": "execute_result"
    }
   ],
   "source": [
    "# ДЕЛИТ СЛОВО НА СЕГМЕНТЫ\n",
    "\n",
    "def make_segments_for_word(word):\n",
    "    for letter in word:\n",
    "        for symbol in diacritic.keys():\n",
    "            word, letter = find_diacr(word, letter, symbol)\n",
    "        # print(word)\n",
    "    return word\n",
    "make_segments_for_word('dnʲa#')"
   ]
  },
  {
   "cell_type": "code",
   "execution_count": 104,
   "metadata": {
    "colab": {
     "base_uri": "https://localhost:8080/",
     "height": 34
    },
    "colab_type": "code",
    "collapsed": false,
    "id": "SvFVCz56io1X",
    "outputId": "102011f7-8d83-4803-962c-e4849164a5b0"
   },
   "outputs": [
    {
     "name": "stdout",
     "output_type": "stream",
     "text": [
      "[1, 1, 0, 0, 1, 1, 1, 0, 1, 1, 1, 1, 1, 1, 1, 1, 1, 1, 1, 1, 1, 1, 1, 1, 1, 1, 1, 1, 1, 1]\n"
     ]
    }
   ],
   "source": [
    "# ФУНКЦИЯ ВОЗВРАЩАЕТ ВЕКТОР В КОТОРОМ ЕДИНИЦАМИ УКАЗАНЫ ОБЩИЕ ЭЛЕМЕНТЫ, А НУЛЯМИ РАЗЛИЧНЫЕ\n",
    "\n",
    "def matr_egal(matr1, matr2):\n",
    "    list_egalite = []\n",
    "    for i in range(len(matr1)):\n",
    "        for j in range(len(matr1[i])):\n",
    "            if matr1[i][j] == matr2[i][j]:\n",
    "                list_egalite.append(1)\n",
    "            else:\n",
    "                list_egalite.append(0)\n",
    "    return list_egalite\n",
    "\n",
    "matr1 = [['-', '-', '-', '?', '+', '?', '-', '+', '?', '-', '-', '-', '-', '-', '+'], ['+', '+', '-', '?', '?', '-', '+', '+', '-', '+', '?', '?', '?', '?', '?']]\n",
    "\n",
    "matr2 =  [['-', '-', '+', '+', '+', '?', '-', '-', '?', '-', '-', '-', '-', '-', '+'], ['+', '+', '-', '?', '?', '-', '+', '+', '-', '+', '?', '?', '?', '?', '?']]\n",
    "\n",
    "c = matr_egal(matr1, matr2)\n",
    "print(c)"
   ]
  },
  {
   "cell_type": "code",
   "execution_count": 136,
   "metadata": {
    "collapsed": false
   },
   "outputs": [],
   "source": [
    "dataf = pd.read_csv('data_vectots.csv')"
   ]
  },
  {
   "cell_type": "code",
   "execution_count": 111,
   "metadata": {
    "colab": {
     "base_uri": "https://localhost:8080/",
     "height": 156
    },
    "colab_type": "code",
    "collapsed": false,
    "id": "Cf268nAIoCPe",
    "outputId": "15c165e9-6ed8-4f39-b7d3-5bd648f22083"
   },
   "outputs": [
    {
     "name": "stdout",
     "output_type": "stream",
     "text": [
      "   Unnamed: 0  0  1  2  3  4  5  6  7  8 ...  36  37  38  39  40  41  42  43  \\\n",
      "0          40  1  1  1  1  0  1  1  1  1 ...   1   1   1   1   1   1   1   1   \n",
      "1          43  1  0  1  1  1  1  1  1  1 ...   1   1   1   1   1   1   1   1   \n",
      "2          45  1  1  1  1  1  1  0  1  0 ...   1   1   1   1   1   1   1   1   \n",
      "3          48  1  1  1  1  1  1  1  1  1 ...   1   1   1   1   1   1   1   1   \n",
      "4          60  1  1  1  1  1  1  0  1  0 ...   1   1   1   1   1   1   1   1   \n",
      "\n",
      "   44  45  \n",
      "0   1   1  \n",
      "1   0   1  \n",
      "2   1   1  \n",
      "3   1   1  \n",
      "4   1   1  \n",
      "\n",
      "[5 rows x 47 columns]\n"
     ]
    }
   ],
   "source": [
    "print(dataf.head())\n",
    "dataf1 = np.copy(dataf)"
   ]
  },
  {
   "cell_type": "code",
   "execution_count": 122,
   "metadata": {
    "colab": {},
    "colab_type": "code",
    "collapsed": false,
    "id": "Hab5fC-v7D_6"
   },
   "outputs": [
    {
     "ename": "ImportError",
     "evalue": "No module named 'sklearn.model_selection'",
     "output_type": "error",
     "traceback": [
      "\u001b[1;31m---------------------------------------------------------------------------\u001b[0m",
      "\u001b[1;31mImportError\u001b[0m                               Traceback (most recent call last)",
      "\u001b[1;32m<ipython-input-122-39f4a7bf2af6>\u001b[0m in \u001b[0;36m<module>\u001b[1;34m()\u001b[0m\n\u001b[0;32m      1\u001b[0m \u001b[1;32mfrom\u001b[0m \u001b[0msklearn\u001b[0m\u001b[1;33m.\u001b[0m\u001b[0mlinear_model\u001b[0m \u001b[1;32mimport\u001b[0m \u001b[0mRidgeClassifier\u001b[0m\u001b[1;33m\u001b[0m\u001b[0m\n\u001b[1;32m----> 2\u001b[1;33m \u001b[1;32mfrom\u001b[0m \u001b[0msklearn\u001b[0m\u001b[1;33m.\u001b[0m\u001b[0mmodel_selection\u001b[0m \u001b[1;32mimport\u001b[0m \u001b[0mGridSearchCV\u001b[0m\u001b[1;33m\u001b[0m\u001b[0m\n\u001b[0m\u001b[0;32m      3\u001b[0m \u001b[1;32mfrom\u001b[0m \u001b[0msklearn\u001b[0m \u001b[1;32mimport\u001b[0m \u001b[0mdatasets\u001b[0m\u001b[1;33m\u001b[0m\u001b[0m\n",
      "\u001b[1;31mImportError\u001b[0m: No module named 'sklearn.model_selection'"
     ]
    }
   ],
   "source": [
    "from sklearn.linear_model import RidgeClassifier\n",
    "from sklearn.model_selection import GridSearchCV\n",
    "from sklearn import datasets"
   ]
  },
  {
   "cell_type": "code",
   "execution_count": 116,
   "metadata": {
    "colab": {},
    "colab_type": "code",
    "collapsed": true,
    "id": "9mRiuO0awEZp"
   },
   "outputs": [],
   "source": [
    "np.random.shuffle(dataf1)"
   ]
  },
  {
   "cell_type": "code",
   "execution_count": 117,
   "metadata": {
    "colab": {
     "base_uri": "https://localhost:8080/",
     "height": 138
    },
    "colab_type": "code",
    "collapsed": false,
    "id": "PGMPrHn7sWDd",
    "outputId": "216891ba-e87b-481d-a616-6994e96b1634"
   },
   "outputs": [
    {
     "name": "stdout",
     "output_type": "stream",
     "text": [
      "[[3469    1    1 ...,    1    1    1]\n",
      " [3661    1    1 ...,    1    1    1]\n",
      " [2454    0    1 ...,    1    1    1]\n",
      " ..., \n",
      " [ 383    0    0 ...,    1    1    1]\n",
      " [  43    1    0 ...,    1    1    1]\n",
      " [ 823    0    0 ...,    1    1    1]] [1 1 1 ..., 1 0 1]\n"
     ]
    }
   ],
   "source": [
    "np.random.shuffle(dataf1)\n",
    "len(dataf1)\n",
    "train = dataf1[:70000]\n",
    "test = dataf1[70000:]\n",
    "\n",
    "X_train = train[:,:45]\n",
    "Y_train = train[ :,45]\n",
    "\n",
    "X_test = test[:,:45]\n",
    "Y_test = test[ :,45]\n",
    "print(X_train, Y_train)"
   ]
  },
  {
   "cell_type": "code",
   "execution_count": null,
   "metadata": {
    "colab": {
     "base_uri": "https://localhost:8080/",
     "height": 190
    },
    "colab_type": "code",
    "collapsed": false,
    "id": "Mbhz5y99pWkN",
    "outputId": "2dfcf25d-a832-41ec-f059-1ab1658979d0"
   },
   "outputs": [],
   "source": [
    "ridge = RidgeClassifier()\n",
    "alphas = np.array([1, 0.1, 0.01, 0.001, 0.0001, 0])\n",
    "parameters = dict(alpha = alphas)\n",
    "\n",
    "clf = GridSearchCV(ridge, parameters, cv=5)\n",
    "clf.fit(X_train, Y_train)"
   ]
  },
  {
   "cell_type": "code",
   "execution_count": 0,
   "metadata": {
    "colab": {
     "base_uri": "https://localhost:8080/",
     "height": 121
    },
    "colab_type": "code",
    "collapsed": false,
    "id": "bAlToLRgsX45",
    "outputId": "63e6daaa-bd71-441a-da6e-df6779b3913b"
   },
   "outputs": [
    {
     "name": "stdout",
     "output_type": "stream",
     "text": [
      "0.9186\n",
      "{'alpha': 1.0}\n",
      "RidgeClassifier(alpha=1.0, class_weight=None, copy_X=True, fit_intercept=True,\n",
      "                max_iter=None, normalize=False, random_state=None,\n",
      "                solver='auto', tol=0.001)\n",
      "1.0\n"
     ]
    }
   ],
   "source": [
    "print(clf.best_score_)\n",
    "print(clf.best_params_)\n",
    "print(clf.best_estimator_)\n",
    "print(clf.best_estimator_.alpha)"
   ]
  },
  {
   "cell_type": "code",
   "execution_count": 0,
   "metadata": {
    "colab": {
     "base_uri": "https://localhost:8080/",
     "height": 52
    },
    "colab_type": "code",
    "collapsed": false,
    "id": "cBXdbBLPs-7-",
    "outputId": "559d85ff-c77d-48d2-c30e-a0b094cdec0c"
   },
   "outputs": [
    {
     "name": "stdout",
     "output_type": "stream",
     "text": [
      "['0' '0' '1' '1' '0' '1' '0' '1' '0' '0' '0' '1' '1' '1' '0' '0' '0' '0'\n",
      " '1' '1']\n"
     ]
    }
   ],
   "source": [
    "answers = clf.best_estimator_.predict(X_test)\n",
    "print(Y_test[:20])"
   ]
  },
  {
   "cell_type": "code",
   "execution_count": 0,
   "metadata": {
    "colab": {},
    "colab_type": "code",
    "collapsed": true,
    "id": "XAzv3X6Vs_Vw"
   },
   "outputs": [],
   "source": [
    "model = clf.best_estimator_\n",
    "pickle.dump(model, open('model.sav', 'wb'))"
   ]
  },
  {
   "cell_type": "code",
   "execution_count": 0,
   "metadata": {
    "colab": {
     "base_uri": "https://localhost:8080/",
     "height": 156
    },
    "colab_type": "code",
    "collapsed": false,
    "id": "G3S5uEIbL-Ow",
    "outputId": "db2f50a8-76d4-4bc8-c427-4d0121b242f6"
   },
   "outputs": [
    {
     "name": "stdout",
     "output_type": "stream",
     "text": [
      "[[0 0 0 ... 0 1 1]\n",
      " [1 1 0 ... 1 1 1]\n",
      " [1 0 0 ... 1 1 1]\n",
      " ...\n",
      " [1 1 1 ... 1 1 1]\n",
      " [1 1 1 ... 1 1 1]\n",
      " [0 1 1 ... 0 1 1]]\n",
      "['1']\n"
     ]
    }
   ],
   "source": [
    "nonr = np.array(nonr).reshape(1, -1)\n",
    "print(X_test)\n",
    "answers = clf.best_estimator_.predict(nonr)\n",
    "print(answers)"
   ]
  },
  {
   "cell_type": "code",
   "execution_count": 0,
   "metadata": {
    "colab": {
     "base_uri": "https://localhost:8080/",
     "height": 34
    },
    "colab_type": "code",
    "collapsed": false,
    "id": "kX7BtWymtCDw",
    "outputId": "092f476f-e1d0-4edf-c791-29d77907e7e4"
   },
   "outputs": [
    {
     "data": {
      "text/plain": [
       "0.9182763196697139"
      ]
     },
     "execution_count": 501,
     "metadata": {
      "tags": []
     },
     "output_type": "execute_result"
    }
   ],
   "source": [
    "(answers == Y_test).astype(int).mean()"
   ]
  },
  {
   "cell_type": "code",
   "execution_count": 126,
   "metadata": {
    "colab": {},
    "colab_type": "code",
    "collapsed": true,
    "id": "_Mo2MaMOOU5T"
   },
   "outputs": [],
   "source": [
    "# ПРОГА СОЗДАЕТ ВЕКТОР ПОХОЖЕСТИ ДВУХ ВЕКТОРОВ, КОТОРЫЙ ПОДАЕТСЯ НА ВХОД МОДЕЛИ\n",
    "\n",
    "tr = make_trans('мурзилка#')\n",
    "\n",
    "tr2 = make_trans('корзинка#')\n",
    "\n",
    "tr_seg = make_segments_for_word(tr)\n",
    "tr_seg2 = make_segments_for_word(tr2)\n",
    "\n",
    "create_matrix_priz(list_priznaki, make_segments_for_word(tr))\n",
    "create_matrix_priz(list_priznaki, make_segments_for_word(tr2))\n",
    "\n",
    "nonr = matr_egal(create_matrix_priz(list_priznaki, make_segments_for_word(tr)), create_matrix_priz(list_priznaki, make_segments_for_word(tr2)))\n",
    "nonr = np.array(nonr).reshape(1, -1)"
   ]
  },
  {
   "cell_type": "code",
   "execution_count": null,
   "metadata": {
    "collapsed": false
   },
   "outputs": [],
   "source": [
    "load_model = pickle.load(open('model.sav', 'rb'))"
   ]
  },
  {
   "cell_type": "code",
   "execution_count": null,
   "metadata": {
    "collapsed": true
   },
   "outputs": [],
   "source": [
    "# ДАЕТ ОТВЕТ РИФМУЮТСЯ ИЛИ НЕТ ДВА СЛОВА, НА ВХОД ПОЛУЧАЕТ ИХ ВЕКТОР СХОЖЕСТИ\n",
    "\n",
    "load_model.predict(nonr)"
   ]
  },
  {
   "cell_type": "code",
   "execution_count": 137,
   "metadata": {
    "colab": {
     "base_uri": "https://localhost:8080/",
     "height": 1000
    },
    "colab_type": "code",
    "collapsed": false,
    "id": "uVzFCUOC73MA",
    "outputId": "e145bd1b-f083-4541-9001-33bf7c524708"
   },
   "outputs": [],
   "source": [
    "# ОСНОВНОЙ КОД, ДЕЛАЕТ БОЛЬШОЙ ДАТАФРЕЙМ, ПОЛУЧАЯ НА ВХОД ДВА СЛОВА И МЕТКУ РИФМКЮТСЯ ИЛИ НЕТ. ВОЗВРАЩАЕТ \n",
    "# ДАТАФРЕЙМ РАЗМЕРОМ N НА 46, ГДЕ N - КОЛЛИЧЕСТВО РИФМОВАННЫХ + НЕ РИФМРВАННЫХ ПАР СЛОВ\n",
    "\n",
    "# НЕ ЗАПУСКАТЬ!!! ГРУЗИТСЯ ДОЛГОООО\n",
    "\n",
    "# with open('dataslittle.csv', 'r', encoding = 'utf-8') as f:\n",
    "#     data = f.readlines()\n",
    "\n",
    "# dataf = pd.DataFrame(columns = range(0, 46))\n",
    "# count_col = 1 \n",
    "\n",
    "# for stroka in data:\n",
    "#     three_words = stroka.replace('\\n', '').split(';')\n",
    "#     list_big = []\n",
    "#     list_two_w_to_copare = []\n",
    "#     for word in three_words:\n",
    "#         if three_words.index(word) == 2:\n",
    "#             pass\n",
    "#         else:\n",
    "#             seg = make_segments_for_word(make_trans(word + '#'))\n",
    "#             list_two_w_to_copare.append(create_matrix_priz(list_priznaki, seg))\n",
    "#     if len(list_two_w_to_copare[0]) < 3  or len(list_two_w_to_copare[1]) < 3:\n",
    "#         pass\n",
    "#     else:\n",
    "#         print(count_col)\n",
    "#         egal = matr_egal(list_two_w_to_copare[0], list_two_w_to_copare[1])\n",
    "#         dataf.loc[count_col, 0:44] = egal\n",
    "#         dataf.loc[count_col, 45] = three_words[-1]\n",
    "#     count_col += 1\n",
    "# dataf.to_csv('data_vectots.csv')"
   ]
  },
  {
   "cell_type": "code",
   "execution_count": 0,
   "metadata": {
    "colab": {
     "base_uri": "https://localhost:8080/",
     "height": 34
    },
    "colab_type": "code",
    "collapsed": false,
    "id": "GKyUemVlXHBf",
    "outputId": "f7628220-4289-40b5-a3ab-26d0cfd56481"
   },
   "outputs": [
    {
     "data": {
      "text/plain": [
       "(97128, 46)"
      ]
     },
     "execution_count": 514,
     "metadata": {
      "tags": []
     },
     "output_type": "execute_result"
    }
   ],
   "source": [
    "dataf.shape"
   ]
  }
 ],
 "metadata": {
  "colab": {
   "collapsed_sections": [],
   "name": "kursach.ipynb",
   "provenance": []
  },
  "kernelspec": {
   "display_name": "Python 3",
   "language": "python",
   "name": "python3"
  },
  "language_info": {
   "codemirror_mode": {
    "name": "ipython",
    "version": 3
   },
   "file_extension": ".py",
   "mimetype": "text/x-python",
   "name": "python",
   "nbconvert_exporter": "python",
   "pygments_lexer": "ipython3",
   "version": "3.5.6"
  }
 },
 "nbformat": 4,
 "nbformat_minor": 0
}
